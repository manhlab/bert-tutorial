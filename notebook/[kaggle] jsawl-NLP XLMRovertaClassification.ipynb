{
  "nbformat": 4,
  "nbformat_minor": 0,
  "metadata": {
    "colab": {
      "name": "T5 on TPU",
      "provenance": [],
      "collapsed_sections": [],
      "toc_visible": true,
      "machine_shape": "hm"
    },
    "kernelspec": {
      "name": "python3",
      "display_name": "Python 3"
    },
    "accelerator": "TPU"
  },
  "cells": [
    {
      "cell_type": "markdown",
      "metadata": {
        "id": "_6q2San5Xh5N",
        "colab_type": "text"
      },
      "source": [
        "# T5 on TPU 💥🚀"
      ]
    },
    {
      "cell_type": "markdown",
      "metadata": {
        "id": "knpacarPX2AN",
        "colab_type": "text"
      },
      "source": [
        "In this notebook we will see how to train T5 model on TPU with Huggingface's awesome new [trainer](https://github.com/huggingface/transformers/blob/master/src/transformers/trainer.py). We will train T5 base model on SQUAD dataset for QA task. We will use the recently released amazing [nlp](https://github.com/huggingface/nlp) package to load and process the dataset in just few lines.\n",
        "\n",
        "First make sure you are connected to the high RAM instance. This will not work on 12 GB colab instance."
      ]
    },
    {
      "cell_type": "code",
      "metadata": {
        "id": "QLGiFCDqvuil",
        "colab_type": "code",
        "colab": {}
      },
      "source": [
        "# Crash on purpose to get more ram :\n",
        "#import torch\n",
        "#torch.tensor([10.]*10000000000)"
      ],
      "execution_count": 0,
      "outputs": []
    },
    {
      "cell_type": "markdown",
      "metadata": {
        "id": "40CJSrN9ZiIP",
        "colab_type": "text"
      },
      "source": [
        "Let's install [PyTorch/XLA](https://github.com/pytorch/xla) which enables PyTorch on TPU. Make sure you install the nightly version, as the trainer breaks on other versions."
      ]
    },
    {
      "cell_type": "code",
      "metadata": {
        "id": "coOmS2s_xDBy",
        "colab_type": "code",
        "outputId": "7f30ee72-5e31-406e-c31e-647ae1c801dc",
        "colab": {
          "base_uri": "https://localhost:8080/",
          "height": 799
        }
      },
      "source": [
        "VERSION = \"nightly\"  #@param [\"1.5\" , \"20200325\", \"nightly\"]\n",
        "!curl https://raw.githubusercontent.com/pytorch/xla/master/contrib/scripts/env-setup.py -o pytorch-xla-env-setup.py\n",
        "!python pytorch-xla-env-setup.py --version $VERSION"
      ],
      "execution_count": 1,
      "outputs": [
        {
          "output_type": "stream",
          "text": [
            "  % Total    % Received % Xferd  Average Speed   Time    Time     Time  Current\n",
            "                                 Dload  Upload   Total   Spent    Left  Speed\n",
            "\r  0     0    0     0    0     0      0      0 --:--:-- --:--:-- --:--:--     0\r100  4264  100  4264    0     0  22208      0 --:--:-- --:--:-- --:--:-- 22208\n",
            "Updating TPU and VM. This may take around 2 minutes.\n",
            "Updating TPU runtime to pytorch-nightly ...\n",
            "Uninstalling torch-1.6.0a0+03eca38:\n",
            "  Successfully uninstalled torch-1.6.0a0+03eca38\n",
            "Uninstalling torchvision-0.7.0a0+3902140:\n",
            "  Successfully uninstalled torchvision-0.7.0a0+3902140\n",
            "Copying gs://tpu-pytorch/wheels/torch-nightly-cp36-cp36m-linux_x86_64.whl...\n",
            "- [1 files][ 90.6 MiB/ 90.6 MiB]                                                \n",
            "Operation completed over 1 objects/90.6 MiB.                                     \n",
            "Copying gs://tpu-pytorch/wheels/torch_xla-nightly-cp36-cp36m-linux_x86_64.whl...\n",
            "\\ [1 files][121.4 MiB/121.4 MiB]                                                \n",
            "Operation completed over 1 objects/121.4 MiB.                                    \n",
            "Copying gs://tpu-pytorch/wheels/torchvision-nightly-cp36-cp36m-linux_x86_64.whl...\n",
            "/ [1 files][  2.1 MiB/  2.1 MiB]                                                \n",
            "Operation completed over 1 objects/2.1 MiB.                                      \n",
            "Processing ./torch-nightly-cp36-cp36m-linux_x86_64.whl\n",
            "Requirement already satisfied: numpy in /usr/local/lib/python3.6/dist-packages (from torch==nightly) (1.18.4)\n",
            "Requirement already satisfied: future in /usr/local/lib/python3.6/dist-packages (from torch==nightly) (0.16.0)\n",
            "\u001b[31mERROR: fastai 1.0.61 requires torchvision, which is not installed.\u001b[0m\n",
            "Installing collected packages: torch\n",
            "Successfully installed torch-1.6.0a0+03eca38\n",
            "Processing ./torch_xla-nightly-cp36-cp36m-linux_x86_64.whl\n",
            "Done updating TPU runtime: <Response [200]>\n",
            "Installing collected packages: torch-xla\n",
            "  Found existing installation: torch-xla 1.6+88d6189\n",
            "    Uninstalling torch-xla-1.6+88d6189:\n",
            "      Successfully uninstalled torch-xla-1.6+88d6189\n",
            "Successfully installed torch-xla-1.6+88d6189\n",
            "Processing ./torchvision-nightly-cp36-cp36m-linux_x86_64.whl\n",
            "Requirement already satisfied: torch in /usr/local/lib/python3.6/dist-packages (from torchvision==nightly) (1.6.0a0+03eca38)\n",
            "Requirement already satisfied: pillow>=4.1.1 in /usr/local/lib/python3.6/dist-packages (from torchvision==nightly) (7.0.0)\n",
            "Requirement already satisfied: numpy in /usr/local/lib/python3.6/dist-packages (from torchvision==nightly) (1.18.4)\n",
            "Requirement already satisfied: future in /usr/local/lib/python3.6/dist-packages (from torch->torchvision==nightly) (0.16.0)\n",
            "Installing collected packages: torchvision\n",
            "Successfully installed torchvision-0.7.0a0+3902140\n",
            "Reading package lists... Done\n",
            "Building dependency tree       \n",
            "Reading state information... Done\n",
            "libomp5 is already the newest version (5.0.1-1).\n",
            "0 upgraded, 0 newly installed, 0 to remove and 32 not upgraded.\n"
          ],
          "name": "stdout"
        }
      ]
    },
    {
      "cell_type": "markdown",
      "metadata": {
        "id": "6-p80vyFZ-S8",
        "colab_type": "text"
      },
      "source": [
        "Install transformers and the nlp package. Restart colab after this"
      ]
    },
    {
      "cell_type": "code",
      "metadata": {
        "id": "ptPupnLsfkMH",
        "colab_type": "code",
        "outputId": "cac72138-c256-40d3-92ef-43099d1d3d35",
        "colab": {
          "base_uri": "https://localhost:8080/",
          "height": 583
        }
      },
      "source": [
        "!git clone https://github.com/huggingface/transformers.git\n",
        "!pip install ./transformers\n"
      ],
      "execution_count": 2,
      "outputs": [
        {
          "output_type": "stream",
          "text": [
            "fatal: destination path 'transformers' already exists and is not an empty directory.\n",
            "Processing ./transformers\n",
            "Requirement already satisfied: numpy in /usr/local/lib/python3.6/dist-packages (from transformers==2.11.0) (1.18.4)\n",
            "Requirement already satisfied: tokenizers==0.7.0 in /usr/local/lib/python3.6/dist-packages (from transformers==2.11.0) (0.7.0)\n",
            "Requirement already satisfied: packaging in /usr/local/lib/python3.6/dist-packages (from transformers==2.11.0) (20.4)\n",
            "Requirement already satisfied: filelock in /usr/local/lib/python3.6/dist-packages (from transformers==2.11.0) (3.0.12)\n",
            "Requirement already satisfied: requests in /usr/local/lib/python3.6/dist-packages (from transformers==2.11.0) (2.23.0)\n",
            "Requirement already satisfied: tqdm>=4.27 in /usr/local/lib/python3.6/dist-packages (from transformers==2.11.0) (4.41.1)\n",
            "Requirement already satisfied: regex!=2019.12.17 in /usr/local/lib/python3.6/dist-packages (from transformers==2.11.0) (2019.12.20)\n",
            "Requirement already satisfied: sentencepiece in /usr/local/lib/python3.6/dist-packages (from transformers==2.11.0) (0.1.91)\n",
            "Requirement already satisfied: sacremoses in /usr/local/lib/python3.6/dist-packages (from transformers==2.11.0) (0.0.43)\n",
            "Requirement already satisfied: dataclasses in /usr/local/lib/python3.6/dist-packages (from transformers==2.11.0) (0.7)\n",
            "Requirement already satisfied: six in /usr/local/lib/python3.6/dist-packages (from packaging->transformers==2.11.0) (1.12.0)\n",
            "Requirement already satisfied: pyparsing>=2.0.2 in /usr/local/lib/python3.6/dist-packages (from packaging->transformers==2.11.0) (2.4.7)\n",
            "Requirement already satisfied: urllib3!=1.25.0,!=1.25.1,<1.26,>=1.21.1 in /usr/local/lib/python3.6/dist-packages (from requests->transformers==2.11.0) (1.24.3)\n",
            "Requirement already satisfied: idna<3,>=2.5 in /usr/local/lib/python3.6/dist-packages (from requests->transformers==2.11.0) (2.9)\n",
            "Requirement already satisfied: certifi>=2017.4.17 in /usr/local/lib/python3.6/dist-packages (from requests->transformers==2.11.0) (2020.4.5.1)\n",
            "Requirement already satisfied: chardet<4,>=3.0.2 in /usr/local/lib/python3.6/dist-packages (from requests->transformers==2.11.0) (3.0.4)\n",
            "Requirement already satisfied: click in /usr/local/lib/python3.6/dist-packages (from sacremoses->transformers==2.11.0) (7.1.2)\n",
            "Requirement already satisfied: joblib in /usr/local/lib/python3.6/dist-packages (from sacremoses->transformers==2.11.0) (0.15.1)\n",
            "Building wheels for collected packages: transformers\n",
            "  Building wheel for transformers (setup.py) ... \u001b[?25l\u001b[?25hdone\n",
            "  Created wheel for transformers: filename=transformers-2.11.0-cp36-none-any.whl size=675545 sha256=6f85d3f1a8327f8696ebed5189ca0d2d16940bbbf2f7dbd24919916fcbe81a28\n",
            "  Stored in directory: /tmp/pip-ephem-wheel-cache-egzvkmic/wheels/23/19/dd/2561a4e47240cf6b307729d58e56f8077dd0c698f5992216cf\n",
            "Successfully built transformers\n",
            "Installing collected packages: transformers\n",
            "  Found existing installation: transformers 2.11.0\n",
            "    Uninstalling transformers-2.11.0:\n",
            "      Successfully uninstalled transformers-2.11.0\n",
            "Successfully installed transformers-2.11.0\n"
          ],
          "name": "stdout"
        }
      ]
    },
    {
      "cell_type": "markdown",
      "metadata": {
        "id": "zFWlfEJllAcw",
        "colab_type": "text"
      },
      "source": [
        "## Load and process data"
      ]
    },
    {
      "cell_type": "markdown",
      "metadata": {
        "id": "NVOz2QUtaKQb",
        "colab_type": "text"
      },
      "source": [
        "Let's load and process the dataset using the nlp library. We will process the examples in follwoing way to cast QA task in text-to-text setting\n",
        "\n",
        "**input**\n",
        "question: question_text  context: context \n",
        "\n",
        "**target**\n",
        "answer_text"
      ]
    },
    {
      "cell_type": "code",
      "metadata": {
        "id": "CaRw0ke1e1sF",
        "colab_type": "code",
        "colab": {}
      },
      "source": [
        "import torch\n",
        "from transformers import XLMRobertaTokenizer, XLMRobertaModel\n",
        "import torch.nn as nn \n",
        "from transformers import AdamW\n",
        "from transformers import get_linear_schedule_with_warmup\n",
        "import json\n",
        "import pandas as pd\n",
        "\n",
        "import torch_xla.core.xla_model as xm\n",
        "import torch_xla.distributed.parallel_loader as pl\n",
        "import torch_xla.distributed.xla_multiprocessing as xmp"
      ],
      "execution_count": 0,
      "outputs": []
    },
    {
      "cell_type": "code",
      "metadata": {
        "id": "NaGYDvKUe8VS",
        "colab_type": "code",
        "colab": {}
      },
      "source": [
        "tokenizer = XLMRobertaTokenizer.from_pretrained('xlm-roberta-base')"
      ],
      "execution_count": 0,
      "outputs": []
    },
    {
      "cell_type": "code",
      "metadata": {
        "id": "2ZWE4addfSmi",
        "colab_type": "code",
        "outputId": "550dad96-6072-4478-b56c-8920607a84a2",
        "colab": {
          "resources": {
            "http://localhost:8080/nbextensions/google.colab/files.js": {
              "data": "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",
              "ok": true,
              "headers": [
                [
                  "content-type",
                  "application/javascript"
                ]
              ],
              "status": 200,
              "status_text": ""
            }
          },
          "base_uri": "https://localhost:8080/",
          "height": 93
        }
      },
      "source": [
        "from google.colab import files\n",
        "files.upload()"
      ],
      "execution_count": 37,
      "outputs": [
        {
          "output_type": "display_data",
          "data": {
            "text/html": [
              "\n",
              "     <input type=\"file\" id=\"files-5458582c-cbfa-4881-9128-d26d90ae7bd6\" name=\"files[]\" multiple disabled />\n",
              "     <output id=\"result-5458582c-cbfa-4881-9128-d26d90ae7bd6\">\n",
              "      Upload widget is only available when the cell has been executed in the\n",
              "      current browser session. Please rerun this cell to enable.\n",
              "      </output>\n",
              "      <script src=\"/nbextensions/google.colab/files.js\"></script> "
            ],
            "text/plain": [
              "<IPython.core.display.HTML object>"
            ]
          },
          "metadata": {
            "tags": []
          }
        },
        {
          "output_type": "stream",
          "text": [
            "Saving kaggle.json to kaggle (1).json\n"
          ],
          "name": "stdout"
        },
        {
          "output_type": "execute_result",
          "data": {
            "text/plain": [
              "{'kaggle.json': b'{\"username\":\"doanquanvietnamca\",\"key\":\"5c44ad334dfc534e12d04dc8373e0440\"}'}"
            ]
          },
          "metadata": {
            "tags": []
          },
          "execution_count": 37
        }
      ]
    },
    {
      "cell_type": "code",
      "metadata": {
        "id": "49MMGMNQ2eSA",
        "colab_type": "code",
        "colab": {
          "base_uri": "https://localhost:8080/",
          "height": 417
        },
        "outputId": "62fa5c4b-0788-4037-e0ea-e00e9225a65a"
      },
      "source": [
        "!mkdir -p ~/.kaggle\n",
        "!cp kaggle.json ~/.kaggle/\n",
        "!pip install kaggle\n",
        "!kaggle competitions download -c jigsaw-multilingual-toxic-comment-classification"
      ],
      "execution_count": 38,
      "outputs": [
        {
          "output_type": "stream",
          "text": [
            "Requirement already satisfied: kaggle in /usr/local/lib/python3.6/dist-packages (1.5.6)\n",
            "Requirement already satisfied: six>=1.10 in /usr/local/lib/python3.6/dist-packages (from kaggle) (1.12.0)\n",
            "Requirement already satisfied: certifi in /usr/local/lib/python3.6/dist-packages (from kaggle) (2020.4.5.1)\n",
            "Requirement already satisfied: urllib3<1.25,>=1.21.1 in /usr/local/lib/python3.6/dist-packages (from kaggle) (1.24.3)\n",
            "Requirement already satisfied: tqdm in /usr/local/lib/python3.6/dist-packages (from kaggle) (4.41.1)\n",
            "Requirement already satisfied: requests in /usr/local/lib/python3.6/dist-packages (from kaggle) (2.23.0)\n",
            "Requirement already satisfied: python-slugify in /usr/local/lib/python3.6/dist-packages (from kaggle) (4.0.0)\n",
            "Requirement already satisfied: python-dateutil in /usr/local/lib/python3.6/dist-packages (from kaggle) (2.8.1)\n",
            "Requirement already satisfied: idna<3,>=2.5 in /usr/local/lib/python3.6/dist-packages (from requests->kaggle) (2.9)\n",
            "Requirement already satisfied: chardet<4,>=3.0.2 in /usr/local/lib/python3.6/dist-packages (from requests->kaggle) (3.0.4)\n",
            "Requirement already satisfied: text-unidecode>=1.3 in /usr/local/lib/python3.6/dist-packages (from python-slugify->kaggle) (1.3)\n",
            "Warning: Your Kaggle API key is readable by other users on this system! To fix this, you can run 'chmod 600 /root/.kaggle/kaggle.json'\n",
            "Warning: Looks like you're using an outdated API Version, please consider updating (server 1.5.6 / client 1.5.4)\n",
            "test-processed-seqlen128.csv.zip: Skipping, found more recently modified local copy (use --force to force download)\n",
            "jigsaw-toxic-comment-train.csv.zip: Skipping, found more recently modified local copy (use --force to force download)\n",
            "jigsaw-unintended-bias-train.csv.zip: Skipping, found more recently modified local copy (use --force to force download)\n",
            "sample_submission.csv: Skipping, found more recently modified local copy (use --force to force download)\n",
            "jigsaw-toxic-comment-train-processed-seqlen128.csv.zip: Skipping, found more recently modified local copy (use --force to force download)\n",
            "validation-processed-seqlen128.csv.zip: Skipping, found more recently modified local copy (use --force to force download)\n",
            "validation.csv.zip: Skipping, found more recently modified local copy (use --force to force download)\n",
            "jigsaw-unintended-bias-train-processed-seqlen128.csv.zip: Skipping, found more recently modified local copy (use --force to force download)\n",
            "test.csv.zip: Skipping, found more recently modified local copy (use --force to force download)\n"
          ],
          "name": "stdout"
        }
      ]
    },
    {
      "cell_type": "code",
      "metadata": {
        "id": "1TxR-5dh2ebs",
        "colab_type": "code",
        "colab": {}
      },
      "source": [
        "import zipfile as zf\n",
        "file_name = [\"jigsaw-toxic-comment-train.csv.zip\", \"jigsaw-unintended-bias-train.csv.zip\",\"validation.csv.zip\"]\n",
        "for file in file_name:\n",
        "  with  zf.ZipFile(file, 'r') as f:\n",
        "    f.extractall('')"
      ],
      "execution_count": 0,
      "outputs": []
    },
    {
      "cell_type": "code",
      "metadata": {
        "id": "T5UdFFp52eh6",
        "colab_type": "code",
        "colab": {}
      },
      "source": [
        "train1 = pd.read_csv(\"jigsaw-toxic-comment-train.csv\")\n",
        "train2 = pd.read_csv(\"jigsaw-unintended-bias-train.csv\")\n",
        "train2.toxic = train2.toxic.round().astype(int)\n",
        "valid = pd.read_csv('validation.csv')\n",
        "    #test = pd.read_csv('/kaggle/input/jigsaw-multilingual-toxic-comment-classification/test.csv')\n",
        "    #sub = pd.read_csv('/kaggle/input/jigsaw-multilingual-toxic-comment-classification/sample_submission.csv')\n",
        "train = pd.concat([\n",
        "train1[['comment_text', 'toxic']],\n",
        "train2[['comment_text', 'toxic']].query('toxic==1'),\n",
        "train2[['comment_text', 'toxic']].query('toxic==0').sample(n=100000, random_state=0)])\n",
        "train = train.replace('\\n',' ', regex=True)\n",
        "valid = valid.replace('\\n',' ', regex=True)"
      ],
      "execution_count": 0,
      "outputs": []
    },
    {
      "cell_type": "code",
      "metadata": {
        "id": "KIY0xF0vQivG",
        "colab_type": "code",
        "colab": {}
      },
      "source": [
        "#preprocessing data.\n",
        "#remove punc, html, stop works,\n",
        "from bs4 import BeautifulSoup\n",
        "from nltk.tokenize import word_tokenize\n",
        "\n",
        "import re\n",
        "from tqdm import tqdm\n",
        "from nltk.stem import WordNetLemmatizer\n",
        "lemmatizer = WordNetLemmatizer()\n",
        "def clean_sentences(df):\n",
        "    reviews = []\n",
        "\n",
        "    for sent in tqdm(df['comment_text']):\n",
        "        \n",
        "        #remove html content\n",
        "        review_text = BeautifulSoup(sent).get_text()\n",
        "        \n",
        "        #remove non-alphabetic characters\n",
        "        review_text = re.sub(\"[^a-zA-Z]\",\" \", review_text)\n",
        "    \n",
        "        #tokenize the sentences\n",
        "        words = word_tokenize(review_text.lower())\n",
        "    \n",
        "        #lemmatize each word to its lemma\n",
        "        lemma_words = [lemmatizer.lemmatize(i) for i in words]\n",
        "    \n",
        "        reviews.append(\" \".join(lemma_words))\n",
        "\n",
        "    return(reviews)"
      ],
      "execution_count": 0,
      "outputs": []
    },
    {
      "cell_type": "code",
      "metadata": {
        "id": "yZeu29w3Qln9",
        "colab_type": "code",
        "colab": {
          "base_uri": "https://localhost:8080/",
          "height": 1000
        },
        "outputId": "f5e4f513-5f18-4707-f286-ed0285b8f83e"
      },
      "source": [
        "train['comment_text'] = clean_sentences(train)\n",
        "valid['comment_text'] = clean_sentences(valid)"
      ],
      "execution_count": 7,
      "outputs": [
        {
          "output_type": "stream",
          "text": [
            " 15%|█▍        | 64903/435775 [01:00<05:23, 1147.26it/s]/usr/local/lib/python3.6/dist-packages/bs4/__init__.py:336: UserWarning: \"http://en.wikipedia.org/wiki/Wikipedia_talk:No_original_research/archive15#YouTube_art_as_primary_source\" looks like a URL. Beautiful Soup is not an HTTP client. You should probably use an HTTP client like requests to get the document behind the URL, and feed that document to Beautiful Soup.\n",
            "  ' that document to Beautiful Soup.' % decoded_markup\n",
            " 17%|█▋        | 76004/435775 [01:10<05:31, 1085.89it/s]/usr/local/lib/python3.6/dist-packages/bs4/__init__.py:336: UserWarning: \"http://finance.yahoo.com/news/7-fascinating-nuggets-another-bewildering-150348488.html\" looks like a URL. Beautiful Soup is not an HTTP client. You should probably use an HTTP client like requests to get the document behind the URL, and feed that document to Beautiful Soup.\n",
            "  ' that document to Beautiful Soup.' % decoded_markup\n",
            " 25%|██▍       | 106836/435775 [01:38<05:09, 1064.41it/s]/usr/local/lib/python3.6/dist-packages/bs4/__init__.py:336: UserWarning: \"http://en.wikipedia.org/wiki/Wikipedia:ELYES\" looks like a URL. Beautiful Soup is not an HTTP client. You should probably use an HTTP client like requests to get the document behind the URL, and feed that document to Beautiful Soup.\n",
            "  ' that document to Beautiful Soup.' % decoded_markup\n",
            " 32%|███▏      | 141185/435775 [02:09<04:23, 1117.92it/s]/usr/local/lib/python3.6/dist-packages/bs4/__init__.py:336: UserWarning: \"http://www.haaretz.com/news/diplomacy-defense/2-279-calories-per-person-how-israel-made-sure-gaza-didn-t-starve.premium-1.470419\" looks like a URL. Beautiful Soup is not an HTTP client. You should probably use an HTTP client like requests to get the document behind the URL, and feed that document to Beautiful Soup.\n",
            "  ' that document to Beautiful Soup.' % decoded_markup\n",
            " 37%|███▋      | 163141/435775 [02:28<04:08, 1096.64it/s]/usr/local/lib/python3.6/dist-packages/bs4/__init__.py:336: UserWarning: \"http://en.wikipedia.org/wiki/Half-Life_%28series%29\" looks like a URL. Beautiful Soup is not an HTTP client. You should probably use an HTTP client like requests to get the document behind the URL, and feed that document to Beautiful Soup.\n",
            "  ' that document to Beautiful Soup.' % decoded_markup\n",
            " 47%|████▋     | 202925/435775 [03:03<03:25, 1134.30it/s]/usr/local/lib/python3.6/dist-packages/bs4/__init__.py:336: UserWarning: \"http://es.wikipedia.org/wiki/Usuario_Discusi%C3%B3n:Sarah_W.\" looks like a URL. Beautiful Soup is not an HTTP client. You should probably use an HTTP client like requests to get the document behind the URL, and feed that document to Beautiful Soup.\n",
            "  ' that document to Beautiful Soup.' % decoded_markup\n",
            " 49%|████▉     | 213638/435775 [03:12<03:09, 1174.49it/s]/usr/local/lib/python3.6/dist-packages/bs4/__init__.py:336: UserWarning: \"http://en.wikipedia.org/wiki/Rayleigh%E2%80%93B%C3%A9nard_convection\" looks like a URL. Beautiful Soup is not an HTTP client. You should probably use an HTTP client like requests to get the document behind the URL, and feed that document to Beautiful Soup.\n",
            "  ' that document to Beautiful Soup.' % decoded_markup\n",
            " 78%|███████▊  | 338668/435775 [04:43<01:13, 1313.73it/s]/usr/local/lib/python3.6/dist-packages/bs4/__init__.py:273: UserWarning: \"b'.'\" looks like a filename, not markup. You should probably open this file and pass the filehandle into Beautiful Soup.\n",
            "  ' Beautiful Soup.' % markup)\n",
            " 79%|███████▊  | 343037/435775 [04:46<01:09, 1326.69it/s]/usr/local/lib/python3.6/dist-packages/bs4/__init__.py:336: UserWarning: \"http://www.youtube.com/watch?v=K8E_zMLCRNg\" looks like a URL. Beautiful Soup is not an HTTP client. You should probably use an HTTP client like requests to get the document behind the URL, and feed that document to Beautiful Soup.\n",
            "  ' that document to Beautiful Soup.' % decoded_markup\n",
            " 79%|███████▉  | 343576/435775 [04:46<01:09, 1330.95it/s]/usr/local/lib/python3.6/dist-packages/bs4/__init__.py:336: UserWarning: \"https://www.adn.com/outdoors-adventure/2016/12/29/bunny-boom-replaces-bunny-bust-as-hares-have-their-heyday-in-alaska/\" looks like a URL. Beautiful Soup is not an HTTP client. You should probably use an HTTP client like requests to get the document behind the URL, and feed that document to Beautiful Soup.\n",
            "  ' that document to Beautiful Soup.' % decoded_markup\n",
            " 79%|███████▉  | 344367/435775 [04:47<01:11, 1286.16it/s]/usr/local/lib/python3.6/dist-packages/bs4/__init__.py:336: UserWarning: \"http://m.jnci.oxfordjournals.org/content/early/2013/12/05/jnci.djt365.full\" looks like a URL. Beautiful Soup is not an HTTP client. You should probably use an HTTP client like requests to get the document behind the URL, and feed that document to Beautiful Soup.\n",
            "  ' that document to Beautiful Soup.' % decoded_markup\n",
            " 79%|███████▉  | 345458/435775 [04:48<01:07, 1335.63it/s]/usr/local/lib/python3.6/dist-packages/bs4/__init__.py:336: UserWarning: \"http://www.secondenlightenment.org/Cosmic%20Christening.pdf\" looks like a URL. Beautiful Soup is not an HTTP client. You should probably use an HTTP client like requests to get the document behind the URL, and feed that document to Beautiful Soup.\n",
            "  ' that document to Beautiful Soup.' % decoded_markup\n",
            " 80%|███████▉  | 347462/435775 [04:49<01:09, 1279.71it/s]/usr/local/lib/python3.6/dist-packages/bs4/__init__.py:336: UserWarning: \"http://reason.com/reasontv/2016/09/14/dont-hate-the-trans-pacific-partnership\" looks like a URL. Beautiful Soup is not an HTTP client. You should probably use an HTTP client like requests to get the document behind the URL, and feed that document to Beautiful Soup.\n",
            "  ' that document to Beautiful Soup.' % decoded_markup\n",
            " 81%|████████  | 351685/435775 [04:53<01:03, 1319.53it/s]/usr/local/lib/python3.6/dist-packages/bs4/__init__.py:336: UserWarning: \"https://www.youtube.com/watch?v=V66F3WU2CKk\" looks like a URL. Beautiful Soup is not an HTTP client. You should probably use an HTTP client like requests to get the document behind the URL, and feed that document to Beautiful Soup.\n",
            "  ' that document to Beautiful Soup.' % decoded_markup\n",
            " 81%|████████  | 352754/435775 [04:54<01:03, 1316.67it/s]/usr/local/lib/python3.6/dist-packages/bs4/__init__.py:336: UserWarning: \"https://www.forbes.com/sites/susanadams/2014/06/16/the-highest-paid-ceos-are-the-worst-performers-new-study-says/#1f9274ae7e32\" looks like a URL. Beautiful Soup is not an HTTP client. You should probably use an HTTP client like requests to get the document behind the URL, and feed that document to Beautiful Soup.\n",
            "  ' that document to Beautiful Soup.' % decoded_markup\n",
            " 81%|████████  | 352886/435775 [04:54<01:03, 1295.44it/s]/usr/local/lib/python3.6/dist-packages/bs4/__init__.py:336: UserWarning: \"http://www.politico.eu/article/15-most-offensive-things-trump-campaign-feminism-migration-racism/\" looks like a URL. Beautiful Soup is not an HTTP client. You should probably use an HTTP client like requests to get the document behind the URL, and feed that document to Beautiful Soup.\n",
            "  ' that document to Beautiful Soup.' % decoded_markup\n",
            " 81%|████████▏ | 354989/435775 [04:55<01:03, 1269.91it/s]/usr/local/lib/python3.6/dist-packages/bs4/__init__.py:336: UserWarning: \"https://townhall.com/columnists/terrypaulson/2017/07/24/the-trap-and-tyranny-of-free-entitlements-n2357831?utm_source=thdaily&utm_medium=email&utm_campaign=nl&newsletterad=\" looks like a URL. Beautiful Soup is not an HTTP client. You should probably use an HTTP client like requests to get the document behind the URL, and feed that document to Beautiful Soup.\n",
            "  ' that document to Beautiful Soup.' % decoded_markup\n",
            " 82%|████████▏ | 357279/435775 [04:57<01:00, 1294.63it/s]/usr/local/lib/python3.6/dist-packages/bs4/__init__.py:336: UserWarning: \"http://www.adn.com/alaska-news/2016/06/07/oil-hits-2016-high-on-ebbing-supply-softer-dollar/\" looks like a URL. Beautiful Soup is not an HTTP client. You should probably use an HTTP client like requests to get the document behind the URL, and feed that document to Beautiful Soup.\n",
            "  ' that document to Beautiful Soup.' % decoded_markup\n",
            " 82%|████████▏ | 357800/435775 [04:57<01:02, 1257.18it/s]/usr/local/lib/python3.6/dist-packages/bs4/__init__.py:336: UserWarning: \"https://www.sexassault.ca/criminalprocess.htm\" looks like a URL. Beautiful Soup is not an HTTP client. You should probably use an HTTP client like requests to get the document behind the URL, and feed that document to Beautiful Soup.\n",
            "  ' that document to Beautiful Soup.' % decoded_markup\n",
            "/usr/local/lib/python3.6/dist-packages/bs4/__init__.py:336: UserWarning: \"https://www.youtube.com/watch?v=WpXfQMFR_Qs\" looks like a URL. Beautiful Soup is not an HTTP client. You should probably use an HTTP client like requests to get the document behind the URL, and feed that document to Beautiful Soup.\n",
            "  ' that document to Beautiful Soup.' % decoded_markup\n",
            " 82%|████████▏ | 358584/435775 [04:58<01:00, 1283.19it/s]/usr/local/lib/python3.6/dist-packages/bs4/__init__.py:336: UserWarning: \"http://www.thedailybeast.com/articles/2014/11/09/bringing-el-salavador-nun-killers-to-justice\" looks like a URL. Beautiful Soup is not an HTTP client. You should probably use an HTTP client like requests to get the document behind the URL, and feed that document to Beautiful Soup.\n",
            "  ' that document to Beautiful Soup.' % decoded_markup\n",
            " 83%|████████▎ | 360162/435775 [04:59<00:59, 1269.30it/s]/usr/local/lib/python3.6/dist-packages/bs4/__init__.py:336: UserWarning: \"https://www.adn.com/alaska-news/education/2016/12/14/university-of-alaska-regents-approve-move-to-a-single-college-of-education/\" looks like a URL. Beautiful Soup is not an HTTP client. You should probably use an HTTP client like requests to get the document behind the URL, and feed that document to Beautiful Soup.\n",
            "  ' that document to Beautiful Soup.' % decoded_markup\n",
            " 83%|████████▎ | 361670/435775 [05:00<00:55, 1323.35it/s]/usr/local/lib/python3.6/dist-packages/bs4/__init__.py:336: UserWarning: \"http://www.aim.org/guest-column/how-to-fake-an-islamophobia-crisis/\" looks like a URL. Beautiful Soup is not an HTTP client. You should probably use an HTTP client like requests to get the document behind the URL, and feed that document to Beautiful Soup.\n",
            "  ' that document to Beautiful Soup.' % decoded_markup\n",
            " 83%|████████▎ | 361803/435775 [05:01<00:57, 1296.26it/s]/usr/local/lib/python3.6/dist-packages/bs4/__init__.py:336: UserWarning: \"https://youtu.be/UqQ88EJDeAA\" looks like a URL. Beautiful Soup is not an HTTP client. You should probably use an HTTP client like requests to get the document behind the URL, and feed that document to Beautiful Soup.\n",
            "  ' that document to Beautiful Soup.' % decoded_markup\n",
            " 83%|████████▎ | 362446/435775 [05:01<00:58, 1252.20it/s]/usr/local/lib/python3.6/dist-packages/bs4/__init__.py:336: UserWarning: \"http://koin.com/2015/11/13/10-of-oregons-13-superdelegates-uncommitted/\" looks like a URL. Beautiful Soup is not an HTTP client. You should probably use an HTTP client like requests to get the document behind the URL, and feed that document to Beautiful Soup.\n",
            "  ' that document to Beautiful Soup.' % decoded_markup\n",
            " 84%|████████▎ | 364294/435775 [05:02<00:55, 1283.21it/s]/usr/local/lib/python3.6/dist-packages/bs4/__init__.py:336: UserWarning: \"http://awarenessact.com/another-clinton-associate-set-to-testify-against-hillary-found-dead/?=aa\" looks like a URL. Beautiful Soup is not an HTTP client. You should probably use an HTTP client like requests to get the document behind the URL, and feed that document to Beautiful Soup.\n",
            "  ' that document to Beautiful Soup.' % decoded_markup\n",
            " 84%|████████▎ | 364554/435775 [05:03<00:56, 1269.91it/s]/usr/local/lib/python3.6/dist-packages/bs4/__init__.py:336: UserWarning: \"https://www.youtube.com/watch?v=zI_rzmJMpAE\" looks like a URL. Beautiful Soup is not an HTTP client. You should probably use an HTTP client like requests to get the document behind the URL, and feed that document to Beautiful Soup.\n",
            "  ' that document to Beautiful Soup.' % decoded_markup\n",
            "/usr/local/lib/python3.6/dist-packages/bs4/__init__.py:336: UserWarning: \"http://lmgtfy.com/?q=medical+geographer\" looks like a URL. Beautiful Soup is not an HTTP client. You should probably use an HTTP client like requests to get the document behind the URL, and feed that document to Beautiful Soup.\n",
            "  ' that document to Beautiful Soup.' % decoded_markup\n",
            " 84%|████████▍ | 365076/435775 [05:03<00:56, 1252.10it/s]/usr/local/lib/python3.6/dist-packages/bs4/__init__.py:336: UserWarning: \"http://thefederalist.com/2016/07/07/evidence-the-transgender-suicide-rate-isnt-due-to-discrimination/\" looks like a URL. Beautiful Soup is not an HTTP client. You should probably use an HTTP client like requests to get the document behind the URL, and feed that document to Beautiful Soup.\n",
            "  ' that document to Beautiful Soup.' % decoded_markup\n",
            " 84%|████████▍ | 366388/435775 [05:04<00:54, 1277.69it/s]/usr/local/lib/python3.6/dist-packages/bs4/__init__.py:336: UserWarning: \"https://www.amazon.com/s/ref=nb_sb_noss?url=search-alias%3Daps&field-keywords=Smokers+Air+Purifier\" looks like a URL. Beautiful Soup is not an HTTP client. You should probably use an HTTP client like requests to get the document behind the URL, and feed that document to Beautiful Soup.\n",
            "  ' that document to Beautiful Soup.' % decoded_markup\n",
            " 84%|████████▍ | 366786/435775 [05:04<00:54, 1264.38it/s]/usr/local/lib/python3.6/dist-packages/bs4/__init__.py:336: UserWarning: \"https://townhall.com/tipsheet/jennifervanlaar/2017/04/29/ca-sheriff-hits-back-at-sanctuary-state-rhetoric-with-statistics-n2320200\" looks like a URL. Beautiful Soup is not an HTTP client. You should probably use an HTTP client like requests to get the document behind the URL, and feed that document to Beautiful Soup.\n",
            "  ' that document to Beautiful Soup.' % decoded_markup\n",
            " 84%|████████▍ | 367173/435775 [05:05<00:55, 1244.47it/s]/usr/local/lib/python3.6/dist-packages/bs4/__init__.py:336: UserWarning: \"http://www.nj.com/news/index.ssf/2017/01/ft_lauderdale_airport_shooting_suspect_he_went_to.html\" looks like a URL. Beautiful Soup is not an HTTP client. You should probably use an HTTP client like requests to get the document behind the URL, and feed that document to Beautiful Soup.\n",
            "  ' that document to Beautiful Soup.' % decoded_markup\n",
            " 85%|████████▍ | 368756/435775 [05:06<00:51, 1294.12it/s]/usr/local/lib/python3.6/dist-packages/bs4/__init__.py:336: UserWarning: \"http://www.clippervacations.com/multi-package/christmas-by-the-sea-day-trip/\" looks like a URL. Beautiful Soup is not an HTTP client. You should probably use an HTTP client like requests to get the document behind the URL, and feed that document to Beautiful Soup.\n",
            "  ' that document to Beautiful Soup.' % decoded_markup\n",
            " 85%|████████▍ | 369295/435775 [05:06<00:49, 1332.40it/s]/usr/local/lib/python3.6/dist-packages/bs4/__init__.py:336: UserWarning: \"https://imprimis.hillsdale.edu/the-right-to-work-a-fundamental-freedom/\" looks like a URL. Beautiful Soup is not an HTTP client. You should probably use an HTTP client like requests to get the document behind the URL, and feed that document to Beautiful Soup.\n",
            "  ' that document to Beautiful Soup.' % decoded_markup\n",
            " 85%|████████▍ | 370342/435775 [05:07<00:51, 1282.65it/s]/usr/local/lib/python3.6/dist-packages/bs4/__init__.py:336: UserWarning: \"http://www.factcheck.org/2015/02/slower-premium-growth-under-obama/\" looks like a URL. Beautiful Soup is not an HTTP client. You should probably use an HTTP client like requests to get the document behind the URL, and feed that document to Beautiful Soup.\n",
            "  ' that document to Beautiful Soup.' % decoded_markup\n",
            "/usr/local/lib/python3.6/dist-packages/bs4/__init__.py:336: UserWarning: \"http://www.climatedepot.com/2017/01/17/danish-statistician-un-climate-treaty-will-cost-100-trillion-to-postpone-global-warming-by-less-than-four-year-by-2100/\" looks like a URL. Beautiful Soup is not an HTTP client. You should probably use an HTTP client like requests to get the document behind the URL, and feed that document to Beautiful Soup.\n",
            "  ' that document to Beautiful Soup.' % decoded_markup\n",
            " 85%|████████▌ | 370733/435775 [05:08<00:50, 1280.68it/s]/usr/local/lib/python3.6/dist-packages/bs4/__init__.py:336: UserWarning: \"https://www.youtube.com/watch?v=2g3xtaJ5604\" looks like a URL. Beautiful Soup is not an HTTP client. You should probably use an HTTP client like requests to get the document behind the URL, and feed that document to Beautiful Soup.\n",
            "  ' that document to Beautiful Soup.' % decoded_markup\n",
            " 85%|████████▌ | 371132/435775 [05:08<00:49, 1306.97it/s]/usr/local/lib/python3.6/dist-packages/bs4/__init__.py:336: UserWarning: \"https://twitter.com/YesYoureRacist\" looks like a URL. Beautiful Soup is not an HTTP client. You should probably use an HTTP client like requests to get the document behind the URL, and feed that document to Beautiful Soup.\n",
            "  ' that document to Beautiful Soup.' % decoded_markup\n",
            " 85%|████████▌ | 372042/435775 [05:09<00:49, 1283.19it/s]/usr/local/lib/python3.6/dist-packages/bs4/__init__.py:336: UserWarning: \"https://www.theglobeandmail.com/life/health-and-fitness/in-this-ppp-taxpayers-are-the-ones-who-paid/article783175/\" looks like a URL. Beautiful Soup is not an HTTP client. You should probably use an HTTP client like requests to get the document behind the URL, and feed that document to Beautiful Soup.\n",
            "  ' that document to Beautiful Soup.' % decoded_markup\n",
            " 85%|████████▌ | 372438/435775 [05:09<00:49, 1285.16it/s]/usr/local/lib/python3.6/dist-packages/bs4/__init__.py:336: UserWarning: \"http://www.nytimes.com/1992/05/17/us/after-the-riots-of-58-riot-deaths-50-have-been-ruled-homicides.html\" looks like a URL. Beautiful Soup is not an HTTP client. You should probably use an HTTP client like requests to get the document behind the URL, and feed that document to Beautiful Soup.\n",
            "  ' that document to Beautiful Soup.' % decoded_markup\n",
            " 86%|████████▌ | 373221/435775 [05:09<00:49, 1257.18it/s]/usr/local/lib/python3.6/dist-packages/bs4/__init__.py:336: UserWarning: \"https://kcts9.org/programs/earthfix/scientists-case-deadly-bat-disease-discover-new-clues\" looks like a URL. Beautiful Soup is not an HTTP client. You should probably use an HTTP client like requests to get the document behind the URL, and feed that document to Beautiful Soup.\n",
            "  ' that document to Beautiful Soup.' % decoded_markup\n",
            " 86%|████████▌ | 374272/435775 [05:10<00:47, 1287.24it/s]/usr/local/lib/python3.6/dist-packages/bs4/__init__.py:336: UserWarning: \"http://www.snopes.com/politics/obama/birthers/booklet.asp\" looks like a URL. Beautiful Soup is not an HTTP client. You should probably use an HTTP client like requests to get the document behind the URL, and feed that document to Beautiful Soup.\n",
            "  ' that document to Beautiful Soup.' % decoded_markup\n",
            " 86%|████████▌ | 375334/435775 [05:11<00:47, 1270.54it/s]/usr/local/lib/python3.6/dist-packages/bs4/__init__.py:336: UserWarning: \"http://www.aoga.org/facts-and-figures/state-revenue\" looks like a URL. Beautiful Soup is not an HTTP client. You should probably use an HTTP client like requests to get the document behind the URL, and feed that document to Beautiful Soup.\n",
            "  ' that document to Beautiful Soup.' % decoded_markup\n",
            " 86%|████████▋ | 376119/435775 [05:12<00:46, 1289.91it/s]/usr/local/lib/python3.6/dist-packages/bs4/__init__.py:336: UserWarning: \"http://www.dramaonline.pk/\" looks like a URL. Beautiful Soup is not an HTTP client. You should probably use an HTTP client like requests to get the document behind the URL, and feed that document to Beautiful Soup.\n",
            "  ' that document to Beautiful Soup.' % decoded_markup\n",
            " 87%|████████▋ | 378624/435775 [05:14<00:45, 1261.20it/s]/usr/local/lib/python3.6/dist-packages/bs4/__init__.py:336: UserWarning: \"https://www.washingtonpost.com/news/volokh-conspiracy/wp/2016/09/23/the-supreme-courts-punt-on-the-little-sisters-of-the-poor-cannot-be-returned/?utm_term=.d1aef008c028\" looks like a URL. Beautiful Soup is not an HTTP client. You should probably use an HTTP client like requests to get the document behind the URL, and feed that document to Beautiful Soup.\n",
            "  ' that document to Beautiful Soup.' % decoded_markup\n",
            " 87%|████████▋ | 379271/435775 [05:14<00:44, 1272.85it/s]/usr/local/lib/python3.6/dist-packages/bs4/__init__.py:336: UserWarning: \"https://www.quora.com/When-were-punctuation-marks-invented-and-how-in-the-world-do-scholars-of-old-texts-such-as-the-Bible-translate-such-documents-without-them\" looks like a URL. Beautiful Soup is not an HTTP client. You should probably use an HTTP client like requests to get the document behind the URL, and feed that document to Beautiful Soup.\n",
            "  ' that document to Beautiful Soup.' % decoded_markup\n",
            " 87%|████████▋ | 379922/435775 [05:15<00:44, 1267.11it/s]/usr/local/lib/python3.6/dist-packages/bs4/__init__.py:336: UserWarning: \"https://www.youtube.com/watch?v=rT3gVZS6Eq0\" looks like a URL. Beautiful Soup is not an HTTP client. You should probably use an HTTP client like requests to get the document behind the URL, and feed that document to Beautiful Soup.\n",
            "  ' that document to Beautiful Soup.' % decoded_markup\n",
            " 87%|████████▋ | 380331/435775 [05:15<00:42, 1311.80it/s]/usr/local/lib/python3.6/dist-packages/bs4/__init__.py:336: UserWarning: \"http://www.theglobeandmail.com/news/politics/canadians-back-bold-climate-change-action-poll-finds/article27518927/\" looks like a URL. Beautiful Soup is not an HTTP client. You should probably use an HTTP client like requests to get the document behind the URL, and feed that document to Beautiful Soup.\n",
            "  ' that document to Beautiful Soup.' % decoded_markup\n",
            " 87%|████████▋ | 380463/435775 [05:15<00:42, 1287.39it/s]/usr/local/lib/python3.6/dist-packages/bs4/__init__.py:336: UserWarning: \"https://www.prageru.com/courses/history/inconvenient-truth-about-democratic-party\" looks like a URL. Beautiful Soup is not an HTTP client. You should probably use an HTTP client like requests to get the document behind the URL, and feed that document to Beautiful Soup.\n",
            "  ' that document to Beautiful Soup.' % decoded_markup\n",
            " 88%|████████▊ | 382060/435775 [05:16<00:42, 1265.61it/s]/usr/local/lib/python3.6/dist-packages/bs4/__init__.py:336: UserWarning: \"http://trumpgolfcount.com\" looks like a URL. Beautiful Soup is not an HTTP client. You should probably use an HTTP client like requests to get the document behind the URL, and feed that document to Beautiful Soup.\n",
            "  ' that document to Beautiful Soup.' % decoded_markup\n",
            " 88%|████████▊ | 382447/435775 [05:17<00:42, 1264.64it/s]/usr/local/lib/python3.6/dist-packages/bs4/__init__.py:336: UserWarning: \"http://gif.mocksession.com/wp-content/uploads/2012/01/CHIP-KELLY-IS-EXCITED.gif\" looks like a URL. Beautiful Soup is not an HTTP client. You should probably use an HTTP client like requests to get the document behind the URL, and feed that document to Beautiful Soup.\n",
            "  ' that document to Beautiful Soup.' % decoded_markup\n",
            " 88%|████████▊ | 383984/435775 [05:18<00:40, 1265.77it/s]/usr/local/lib/python3.6/dist-packages/bs4/__init__.py:336: UserWarning: \"https://civil.helpscoutdocs.com/article/54-what-does-civil-mean\" looks like a URL. Beautiful Soup is not an HTTP client. You should probably use an HTTP client like requests to get the document behind the URL, and feed that document to Beautiful Soup.\n",
            "  ' that document to Beautiful Soup.' % decoded_markup\n",
            " 88%|████████▊ | 384247/435775 [05:18<00:40, 1282.26it/s]/usr/local/lib/python3.6/dist-packages/bs4/__init__.py:336: UserWarning: \"https://retirementmillionairedaily.com/why-you-should-ignore-the-fed-rate-hike-hoopla/\" looks like a URL. Beautiful Soup is not an HTTP client. You should probably use an HTTP client like requests to get the document behind the URL, and feed that document to Beautiful Soup.\n",
            "  ' that document to Beautiful Soup.' % decoded_markup\n",
            " 88%|████████▊ | 385162/435775 [05:19<00:39, 1289.13it/s]/usr/local/lib/python3.6/dist-packages/bs4/__init__.py:336: UserWarning: \"http://www.thoughtsandprayersthegame.com/\" looks like a URL. Beautiful Soup is not an HTTP client. You should probably use an HTTP client like requests to get the document behind the URL, and feed that document to Beautiful Soup.\n",
            "  ' that document to Beautiful Soup.' % decoded_markup\n",
            " 89%|████████▊ | 386069/435775 [05:20<00:38, 1288.69it/s]/usr/local/lib/python3.6/dist-packages/bs4/__init__.py:336: UserWarning: \"https://www.theguardian.com/us-news/ng-interactive/2017/jan/09/special-report-fixing-gun-violence-in-america\" looks like a URL. Beautiful Soup is not an HTTP client. You should probably use an HTTP client like requests to get the document behind the URL, and feed that document to Beautiful Soup.\n",
            "  ' that document to Beautiful Soup.' % decoded_markup\n",
            " 89%|████████▉ | 387383/435775 [05:21<00:38, 1258.45it/s]/usr/local/lib/python3.6/dist-packages/bs4/__init__.py:336: UserWarning: \"https://trudeaumetre.polimeter.org/\" looks like a URL. Beautiful Soup is not an HTTP client. You should probably use an HTTP client like requests to get the document behind the URL, and feed that document to Beautiful Soup.\n",
            "  ' that document to Beautiful Soup.' % decoded_markup\n",
            " 89%|████████▉ | 387776/435775 [05:21<00:37, 1272.97it/s]/usr/local/lib/python3.6/dist-packages/bs4/__init__.py:336: UserWarning: \"https://en.wikipedia.org/wiki/Marbury_v._Madison\" looks like a URL. Beautiful Soup is not an HTTP client. You should probably use an HTTP client like requests to get the document behind the URL, and feed that document to Beautiful Soup.\n",
            "  ' that document to Beautiful Soup.' % decoded_markup\n",
            " 89%|████████▉ | 389873/435775 [05:22<00:33, 1355.69it/s]/usr/local/lib/python3.6/dist-packages/bs4/__init__.py:336: UserWarning: \"http://www.military.com/daily-news/2016/11/02/survey-career-oriented-troops-favor-trump-over-clinton.html\" looks like a URL. Beautiful Soup is not an HTTP client. You should probably use an HTTP client like requests to get the document behind the URL, and feed that document to Beautiful Soup.\n",
            "  ' that document to Beautiful Soup.' % decoded_markup\n",
            " 90%|████████▉ | 391213/435775 [05:24<00:34, 1300.47it/s]/usr/local/lib/python3.6/dist-packages/bs4/__init__.py:336: UserWarning: \"http://business.financialpost.com/fp-comment/lawrence-solomon-finally-its-safe-for-the-whistleblowers-of-corrupted-climate-science-to-speak-out\" looks like a URL. Beautiful Soup is not an HTTP client. You should probably use an HTTP client like requests to get the document behind the URL, and feed that document to Beautiful Soup.\n",
            "  ' that document to Beautiful Soup.' % decoded_markup\n",
            " 90%|█████████ | 392948/435775 [05:25<00:33, 1264.67it/s]/usr/local/lib/python3.6/dist-packages/bs4/__init__.py:336: UserWarning: \"https://thinkprogress.org/trump-falsely-claims-paris-has-minimal-impact-on-warming-29a00619d407\" looks like a URL. Beautiful Soup is not an HTTP client. You should probably use an HTTP client like requests to get the document behind the URL, and feed that document to Beautiful Soup.\n",
            "  ' that document to Beautiful Soup.' % decoded_markup\n",
            " 90%|█████████ | 394021/435775 [05:26<00:32, 1284.08it/s]/usr/local/lib/python3.6/dist-packages/bs4/__init__.py:336: UserWarning: \"http://www.whatsinstocktoday.com/home/2016/9/4/employing-a-dividend-strategy-over-the-long-term\" looks like a URL. Beautiful Soup is not an HTTP client. You should probably use an HTTP client like requests to get the document behind the URL, and feed that document to Beautiful Soup.\n",
            "  ' that document to Beautiful Soup.' % decoded_markup\n",
            " 90%|█████████ | 394150/435775 [05:26<00:32, 1264.98it/s]/usr/local/lib/python3.6/dist-packages/bs4/__init__.py:336: UserWarning: \"https://pbs.twimg.com/media/CYQCBnsUsAAG7Ao.jpg:large\" looks like a URL. Beautiful Soup is not an HTTP client. You should probably use an HTTP client like requests to get the document behind the URL, and feed that document to Beautiful Soup.\n",
            "  ' that document to Beautiful Soup.' % decoded_markup\n",
            " 90%|█████████ | 394281/435775 [05:26<00:32, 1276.42it/s]/usr/local/lib/python3.6/dist-packages/bs4/__init__.py:336: UserWarning: \"http://www.lepantoinstitute.org/population-control/national-catholic-reporter-should-be-banned-by-us-bishops/\" looks like a URL. Beautiful Soup is not an HTTP client. You should probably use an HTTP client like requests to get the document behind the URL, and feed that document to Beautiful Soup.\n",
            "  ' that document to Beautiful Soup.' % decoded_markup\n",
            " 91%|█████████ | 395454/435775 [05:27<00:30, 1310.57it/s]/usr/local/lib/python3.6/dist-packages/bs4/__init__.py:336: UserWarning: \"http://www.hawaiiprepworld.com/featured/signing-day-hilliard-nam-among-40-signees/\" looks like a URL. Beautiful Soup is not an HTTP client. You should probably use an HTTP client like requests to get the document behind the URL, and feed that document to Beautiful Soup.\n",
            "  ' that document to Beautiful Soup.' % decoded_markup\n",
            " 91%|█████████▏| 398488/435775 [05:29<00:28, 1301.08it/s]/usr/local/lib/python3.6/dist-packages/bs4/__init__.py:336: UserWarning: \"http://museum2.utep.edu/archive/geology/DDseashell.htm\" looks like a URL. Beautiful Soup is not an HTTP client. You should probably use an HTTP client like requests to get the document behind the URL, and feed that document to Beautiful Soup.\n",
            "  ' that document to Beautiful Soup.' % decoded_markup\n",
            " 92%|█████████▏| 399654/435775 [05:30<00:29, 1240.03it/s]/usr/local/lib/python3.6/dist-packages/bs4/__init__.py:336: UserWarning: \"http://www.huffingtonpost.com/entry/congress-now-blaming-obama-for-embarrassing-override-of-his-veto_us_57edacd1e4b082aad9ba8595\" looks like a URL. Beautiful Soup is not an HTTP client. You should probably use an HTTP client like requests to get the document behind the URL, and feed that document to Beautiful Soup.\n",
            "  ' that document to Beautiful Soup.' % decoded_markup\n",
            " 92%|█████████▏| 400045/435775 [05:30<00:27, 1279.54it/s]/usr/local/lib/python3.6/dist-packages/bs4/__init__.py:336: UserWarning: \"http://www.neb-one.gc.ca/pplctnflng/mjrpp/trnsmntnxpnsn/lttr2017-06-01-eng.html\" looks like a URL. Beautiful Soup is not an HTTP client. You should probably use an HTTP client like requests to get the document behind the URL, and feed that document to Beautiful Soup.\n",
            "  ' that document to Beautiful Soup.' % decoded_markup\n",
            " 92%|█████████▏| 400307/435775 [05:31<00:28, 1263.29it/s]/usr/local/lib/python3.6/dist-packages/bs4/__init__.py:336: UserWarning: \"http://www.virtueonline.org/vermont-feasibility-study-reveals-diocese-vermont-serious-trouble\" looks like a URL. Beautiful Soup is not an HTTP client. You should probably use an HTTP client like requests to get the document behind the URL, and feed that document to Beautiful Soup.\n",
            "  ' that document to Beautiful Soup.' % decoded_markup\n",
            " 92%|█████████▏| 400690/435775 [05:31<00:28, 1243.95it/s]/usr/local/lib/python3.6/dist-packages/bs4/__init__.py:336: UserWarning: \"http://www.foxnews.com/us/2017/03/14/jihadis-using-religious-visa-to-enter-us-experts-warn.html\" looks like a URL. Beautiful Soup is not an HTTP client. You should probably use an HTTP client like requests to get the document behind the URL, and feed that document to Beautiful Soup.\n",
            "  ' that document to Beautiful Soup.' % decoded_markup\n",
            " 92%|█████████▏| 400943/435775 [05:31<00:27, 1247.50it/s]/usr/local/lib/python3.6/dist-packages/bs4/__init__.py:336: UserWarning: \"http://www.breitbart.com/big-government/2016/04/23/twenty-stories-proving-targets-pro-transgender-bathroom-policy-danger-women-children/\" looks like a URL. Beautiful Soup is not an HTTP client. You should probably use an HTTP client like requests to get the document behind the URL, and feed that document to Beautiful Soup.\n",
            "  ' that document to Beautiful Soup.' % decoded_markup\n",
            "/usr/local/lib/python3.6/dist-packages/bs4/__init__.py:336: UserWarning: \"http://xianleft.blogspot.com/2012/05/on-sunday-obligation.html\" looks like a URL. Beautiful Soup is not an HTTP client. You should probably use an HTTP client like requests to get the document behind the URL, and feed that document to Beautiful Soup.\n",
            "  ' that document to Beautiful Soup.' % decoded_markup\n",
            " 92%|█████████▏| 401966/435775 [05:32<00:26, 1256.61it/s]/usr/local/lib/python3.6/dist-packages/bs4/__init__.py:336: UserWarning: \"https://www.facebook.com/motorcyclesfilteralberta/\" looks like a URL. Beautiful Soup is not an HTTP client. You should probably use an HTTP client like requests to get the document behind the URL, and feed that document to Beautiful Soup.\n",
            "  ' that document to Beautiful Soup.' % decoded_markup\n",
            "/usr/local/lib/python3.6/dist-packages/bs4/__init__.py:336: UserWarning: \"https://ipolitics.ca/2015/04/19/no-matter-how-you-add-it-up-harpers-fiscal-record-is-a-catastrophe/\" looks like a URL. Beautiful Soup is not an HTTP client. You should probably use an HTTP client like requests to get the document behind the URL, and feed that document to Beautiful Soup.\n",
            "  ' that document to Beautiful Soup.' % decoded_markup\n",
            " 93%|█████████▎| 403804/435775 [05:33<00:24, 1308.68it/s]/usr/local/lib/python3.6/dist-packages/bs4/__init__.py:336: UserWarning: \"http://www.joshhawley2018.com/\" looks like a URL. Beautiful Soup is not an HTTP client. You should probably use an HTTP client like requests to get the document behind the URL, and feed that document to Beautiful Soup.\n",
            "  ' that document to Beautiful Soup.' % decoded_markup\n",
            " 93%|█████████▎| 404208/435775 [05:34<00:23, 1327.54it/s]/usr/local/lib/python3.6/dist-packages/bs4/__init__.py:336: UserWarning: \"http://lasvegassun.com/news/2015/nov/11/clinton-unveils-plan-to-improve-health-care-for-ve/\" looks like a URL. Beautiful Soup is not an HTTP client. You should probably use an HTTP client like requests to get the document behind the URL, and feed that document to Beautiful Soup.\n",
            "  ' that document to Beautiful Soup.' % decoded_markup\n",
            " 93%|█████████▎| 404603/435775 [05:34<00:24, 1280.48it/s]/usr/local/lib/python3.6/dist-packages/bs4/__init__.py:336: UserWarning: \"http://dhss.alaska.gov/dph/nursing/pages/mat-su-public-health-center.aspx\" looks like a URL. Beautiful Soup is not an HTTP client. You should probably use an HTTP client like requests to get the document behind the URL, and feed that document to Beautiful Soup.\n",
            "  ' that document to Beautiful Soup.' % decoded_markup\n",
            " 93%|█████████▎| 405501/435775 [05:35<00:23, 1280.61it/s]/usr/local/lib/python3.6/dist-packages/bs4/__init__.py:336: UserWarning: \"http://patriotupdate.com/young-obama-haters-in-action/\" looks like a URL. Beautiful Soup is not an HTTP client. You should probably use an HTTP client like requests to get the document behind the URL, and feed that document to Beautiful Soup.\n",
            "  ' that document to Beautiful Soup.' % decoded_markup\n",
            " 93%|█████████▎| 406711/435775 [05:36<00:22, 1270.50it/s]/usr/local/lib/python3.6/dist-packages/bs4/__init__.py:336: UserWarning: \"https://www.change.org/p/lisa-murkowski-don-young-recall-alaska-s-governor-walker\" looks like a URL. Beautiful Soup is not an HTTP client. You should probably use an HTTP client like requests to get the document behind the URL, and feed that document to Beautiful Soup.\n",
            "  ' that document to Beautiful Soup.' % decoded_markup\n",
            " 94%|█████████▎| 407760/435775 [05:36<00:21, 1291.38it/s]/usr/local/lib/python3.6/dist-packages/bs4/__init__.py:336: UserWarning: \"https://milo.yiannopoulos.net/2017/03/tommy-robinson-rips-reporter/\" looks like a URL. Beautiful Soup is not an HTTP client. You should probably use an HTTP client like requests to get the document behind the URL, and feed that document to Beautiful Soup.\n",
            "  ' that document to Beautiful Soup.' % decoded_markup\n",
            " 94%|█████████▎| 408020/435775 [05:37<00:22, 1256.55it/s]/usr/local/lib/python3.6/dist-packages/bs4/__init__.py:336: UserWarning: \"https://www.washingtonpost.com/news/morning-mix/wp/2016/06/17/a-starving-wolf-stalked-a-woman-and-her-dog-for-12-hours-then-along-came-a-bear/\" looks like a URL. Beautiful Soup is not an HTTP client. You should probably use an HTTP client like requests to get the document behind the URL, and feed that document to Beautiful Soup.\n",
            "  ' that document to Beautiful Soup.' % decoded_markup\n",
            "/usr/local/lib/python3.6/dist-packages/bs4/__init__.py:336: UserWarning: \"https://www.facebook.com/groups/cfeginc/\" looks like a URL. Beautiful Soup is not an HTTP client. You should probably use an HTTP client like requests to get the document behind the URL, and feed that document to Beautiful Soup.\n",
            "  ' that document to Beautiful Soup.' % decoded_markup\n",
            " 94%|█████████▍| 408556/435775 [05:37<00:20, 1296.60it/s]/usr/local/lib/python3.6/dist-packages/bs4/__init__.py:336: UserWarning: \"http://usuncut.com/politics/happy-veterans-day-5-times-republicans-in-congress-screwed-veterans/\" looks like a URL. Beautiful Soup is not an HTTP client. You should probably use an HTTP client like requests to get the document behind the URL, and feed that document to Beautiful Soup.\n",
            "  ' that document to Beautiful Soup.' % decoded_markup\n",
            " 94%|█████████▍| 409082/435775 [05:37<00:21, 1263.31it/s]/usr/local/lib/python3.6/dist-packages/bs4/__init__.py:336: UserWarning: \"http://peninsulaclarion.com/2016-05-15-1#comment-26844\" looks like a URL. Beautiful Soup is not an HTTP client. You should probably use an HTTP client like requests to get the document behind the URL, and feed that document to Beautiful Soup.\n",
            "  ' that document to Beautiful Soup.' % decoded_markup\n",
            " 94%|█████████▍| 410278/435775 [05:38<00:19, 1312.16it/s]/usr/local/lib/python3.6/dist-packages/bs4/__init__.py:336: UserWarning: \"https://www.theguardian.com/society/2015/jul/03/financial-problems-now-endemic-in-nhs-england-says-kings-fund\" looks like a URL. Beautiful Soup is not an HTTP client. You should probably use an HTTP client like requests to get the document behind the URL, and feed that document to Beautiful Soup.\n",
            "  ' that document to Beautiful Soup.' % decoded_markup\n",
            " 94%|█████████▍| 410413/435775 [05:38<00:19, 1323.27it/s]/usr/local/lib/python3.6/dist-packages/bs4/__init__.py:336: UserWarning: \"https://www.circa.com/story/2017/09/12/politics/supreme-court-reinstates-trumps-travel-ban-on-most-refugees\" looks like a URL. Beautiful Soup is not an HTTP client. You should probably use an HTTP client like requests to get the document behind the URL, and feed that document to Beautiful Soup.\n",
            "  ' that document to Beautiful Soup.' % decoded_markup\n",
            " 94%|█████████▍| 410549/435775 [05:39<00:18, 1333.03it/s]/usr/local/lib/python3.6/dist-packages/bs4/__init__.py:336: UserWarning: \"https://www.needtoimpeach.com/\" looks like a URL. Beautiful Soup is not an HTTP client. You should probably use an HTTP client like requests to get the document behind the URL, and feed that document to Beautiful Soup.\n",
            "  ' that document to Beautiful Soup.' % decoded_markup\n",
            " 94%|█████████▍| 411352/435775 [05:39<00:18, 1285.63it/s]/usr/local/lib/python3.6/dist-packages/bs4/__init__.py:336: UserWarning: \"https://www.facebook.com/potts93?ref=br_rs\" looks like a URL. Beautiful Soup is not an HTTP client. You should probably use an HTTP client like requests to get the document behind the URL, and feed that document to Beautiful Soup.\n",
            "  ' that document to Beautiful Soup.' % decoded_markup\n",
            "/usr/local/lib/python3.6/dist-packages/bs4/__init__.py:336: UserWarning: \"https://www.youtube.com/watch?v=r6cnryxwH6A\" looks like a URL. Beautiful Soup is not an HTTP client. You should probably use an HTTP client like requests to get the document behind the URL, and feed that document to Beautiful Soup.\n",
            "  ' that document to Beautiful Soup.' % decoded_markup\n",
            " 95%|█████████▍| 412978/435775 [05:40<00:16, 1343.98it/s]/usr/local/lib/python3.6/dist-packages/bs4/__init__.py:336: UserWarning: \"https://mobile.twitter.com/pharris830/status/871763608472080384/photo/1\" looks like a URL. Beautiful Soup is not an HTTP client. You should probably use an HTTP client like requests to get the document behind the URL, and feed that document to Beautiful Soup.\n",
            "  ' that document to Beautiful Soup.' % decoded_markup\n",
            " 95%|█████████▍| 413768/435775 [05:41<00:17, 1284.04it/s]/usr/local/lib/python3.6/dist-packages/bs4/__init__.py:336: UserWarning: \"http://nypost.com/2016/06/28/final-benghazi-report-blames-clinton-disregarding-witnesses/\" looks like a URL. Beautiful Soup is not an HTTP client. You should probably use an HTTP client like requests to get the document behind the URL, and feed that document to Beautiful Soup.\n",
            "  ' that document to Beautiful Soup.' % decoded_markup\n",
            " 96%|█████████▌| 416711/435775 [05:43<00:14, 1316.32it/s]/usr/local/lib/python3.6/dist-packages/bs4/__init__.py:336: UserWarning: \"http://www.doe.ky/wp-content/uploads/2014/04/Sunscreen-Contamination-of-Coral-Reefs.pdf\" looks like a URL. Beautiful Soup is not an HTTP client. You should probably use an HTTP client like requests to get the document behind the URL, and feed that document to Beautiful Soup.\n",
            "  ' that document to Beautiful Soup.' % decoded_markup\n",
            " 96%|█████████▌| 417778/435775 [05:44<00:13, 1295.71it/s]/usr/local/lib/python3.6/dist-packages/bs4/__init__.py:336: UserWarning: \"https://www.adn.com/opinions/2016/09/10/some-alaska-medical-specialists-charge-as-much-as-10-times-more-than-seattle-because-they-can/\" looks like a URL. Beautiful Soup is not an HTTP client. You should probably use an HTTP client like requests to get the document behind the URL, and feed that document to Beautiful Soup.\n",
            "  ' that document to Beautiful Soup.' % decoded_markup\n",
            " 96%|█████████▌| 418974/435775 [05:45<00:12, 1301.42it/s]/usr/local/lib/python3.6/dist-packages/bs4/__init__.py:336: UserWarning: \"https://www.youtube.com/watch?v=CVBSatRm5MM\" looks like a URL. Beautiful Soup is not an HTTP client. You should probably use an HTTP client like requests to get the document behind the URL, and feed that document to Beautiful Soup.\n",
            "  ' that document to Beautiful Soup.' % decoded_markup\n",
            " 96%|█████████▌| 419240/435775 [05:45<00:12, 1281.92it/s]/usr/local/lib/python3.6/dist-packages/bs4/__init__.py:336: UserWarning: \"http://www.mediaite.com/tv/the-context-behind-nancy-pelosis-famous-we-have-to-pass-the-bill-quote/\" looks like a URL. Beautiful Soup is not an HTTP client. You should probably use an HTTP client like requests to get the document behind the URL, and feed that document to Beautiful Soup.\n",
            "  ' that document to Beautiful Soup.' % decoded_markup\n",
            " 96%|█████████▋| 420316/435775 [05:46<00:11, 1338.78it/s]/usr/local/lib/python3.6/dist-packages/bs4/__init__.py:336: UserWarning: \"https://en.oxforddictionaries.com/definition/opinion\" looks like a URL. Beautiful Soup is not an HTTP client. You should probably use an HTTP client like requests to get the document behind the URL, and feed that document to Beautiful Soup.\n",
            "  ' that document to Beautiful Soup.' % decoded_markup\n",
            " 97%|█████████▋| 421497/435775 [05:47<00:11, 1276.97it/s]/usr/local/lib/python3.6/dist-packages/bs4/__init__.py:336: UserWarning: \"https://lmgtfy.com/?q=oregon+insurance+cover+fire+caused+by+marijuana\" looks like a URL. Beautiful Soup is not an HTTP client. You should probably use an HTTP client like requests to get the document behind the URL, and feed that document to Beautiful Soup.\n",
            "  ' that document to Beautiful Soup.' % decoded_markup\n",
            " 97%|█████████▋| 422151/435775 [05:48<00:10, 1255.33it/s]/usr/local/lib/python3.6/dist-packages/bs4/__init__.py:336: UserWarning: \"http://all-len-all.com/wp-content/uploads/2016/05/sour-grapes.jpg\" looks like a URL. Beautiful Soup is not an HTTP client. You should probably use an HTTP client like requests to get the document behind the URL, and feed that document to Beautiful Soup.\n",
            "  ' that document to Beautiful Soup.' % decoded_markup\n",
            " 97%|█████████▋| 422409/435775 [05:48<00:10, 1260.58it/s]/usr/local/lib/python3.6/dist-packages/bs4/__init__.py:336: UserWarning: \"http://washingtonmonthly.com/2017/03/29/quick-takes-cops-turn-on-sessions/\" looks like a URL. Beautiful Soup is not an HTTP client. You should probably use an HTTP client like requests to get the document behind the URL, and feed that document to Beautiful Soup.\n",
            "  ' that document to Beautiful Soup.' % decoded_markup\n",
            " 97%|█████████▋| 422796/435775 [05:48<00:10, 1278.06it/s]/usr/local/lib/python3.6/dist-packages/bs4/__init__.py:336: UserWarning: \"https://www.facebook.com/johnny.degrate?fref=ts\" looks like a URL. Beautiful Soup is not an HTTP client. You should probably use an HTTP client like requests to get the document behind the URL, and feed that document to Beautiful Soup.\n",
            "  ' that document to Beautiful Soup.' % decoded_markup\n",
            " 97%|█████████▋| 423714/435775 [05:49<00:09, 1282.43it/s]/usr/local/lib/python3.6/dist-packages/bs4/__init__.py:336: UserWarning: \"http://nbc16.com/news/local/lane-county-commissioners-vote-to-increase-their-salary-by-10000\" looks like a URL. Beautiful Soup is not an HTTP client. You should probably use an HTTP client like requests to get the document behind the URL, and feed that document to Beautiful Soup.\n",
            "  ' that document to Beautiful Soup.' % decoded_markup\n",
            " 97%|█████████▋| 423974/435775 [05:49<00:09, 1280.45it/s]/usr/local/lib/python3.6/dist-packages/bs4/__init__.py:336: UserWarning: \"http://www.nytimes.com/roomfordebate/2012/04/17/is-veganism-good-for-everyone/meat-is-brain-food\" looks like a URL. Beautiful Soup is not an HTTP client. You should probably use an HTTP client like requests to get the document behind the URL, and feed that document to Beautiful Soup.\n",
            "  ' that document to Beautiful Soup.' % decoded_markup\n",
            " 97%|█████████▋| 424243/435775 [05:49<00:08, 1307.41it/s]/usr/local/lib/python3.6/dist-packages/bs4/__init__.py:336: UserWarning: \"https://www.gofundme.com/uk-christmas-for-kids/donate\" looks like a URL. Beautiful Soup is not an HTTP client. You should probably use an HTTP client like requests to get the document behind the URL, and feed that document to Beautiful Soup.\n",
            "  ' that document to Beautiful Soup.' % decoded_markup\n",
            " 97%|█████████▋| 424505/435775 [05:49<00:08, 1272.34it/s]/usr/local/lib/python3.6/dist-packages/bs4/__init__.py:336: UserWarning: \"http://www.letmegooglethat.com/?q=how+many+dogs+do+police+shoot+a+year\" looks like a URL. Beautiful Soup is not an HTTP client. You should probably use an HTTP client like requests to get the document behind the URL, and feed that document to Beautiful Soup.\n",
            "  ' that document to Beautiful Soup.' % decoded_markup\n",
            " 98%|█████████▊| 425691/435775 [05:50<00:07, 1299.19it/s]/usr/local/lib/python3.6/dist-packages/bs4/__init__.py:336: UserWarning: \"http://alaskainnocence.org/index.html\" looks like a URL. Beautiful Soup is not an HTTP client. You should probably use an HTTP client like requests to get the document behind the URL, and feed that document to Beautiful Soup.\n",
            "  ' that document to Beautiful Soup.' % decoded_markup\n",
            " 98%|█████████▊| 426089/435775 [05:51<00:07, 1262.79it/s]/usr/local/lib/python3.6/dist-packages/bs4/__init__.py:336: UserWarning: \"http://www.pewresearch.org/fact-tank/2015/06/12/6-charts-showing-how-russians-see-their-country-and-the-world/\" looks like a URL. Beautiful Soup is not an HTTP client. You should probably use an HTTP client like requests to get the document behind the URL, and feed that document to Beautiful Soup.\n",
            "  ' that document to Beautiful Soup.' % decoded_markup\n",
            " 98%|█████████▊| 426351/435775 [05:51<00:07, 1271.91it/s]/usr/local/lib/python3.6/dist-packages/bs4/__init__.py:336: UserWarning: \"http://www.choiceandtruth.com/2016/07/remember-psychopath-child-beth-thomas-this-is-what-became-of-her.html\" looks like a URL. Beautiful Soup is not an HTTP client. You should probably use an HTTP client like requests to get the document behind the URL, and feed that document to Beautiful Soup.\n",
            "  ' that document to Beautiful Soup.' % decoded_markup\n",
            " 98%|█████████▊| 427006/435775 [05:51<00:06, 1282.13it/s]/usr/local/lib/python3.6/dist-packages/bs4/__init__.py:336: UserWarning: \"http://www.thethings.com/15-disgusting-facts-about-meat/\" looks like a URL. Beautiful Soup is not an HTTP client. You should probably use an HTTP client like requests to get the document behind the URL, and feed that document to Beautiful Soup.\n",
            "  ' that document to Beautiful Soup.' % decoded_markup\n",
            " 98%|█████████▊| 427135/435775 [05:51<00:06, 1283.12it/s]/usr/local/lib/python3.6/dist-packages/bs4/__init__.py:336: UserWarning: \"http://drugtopics.modernmedicine.com/drug-topics/news/cvs-pharmacist-chain-doesn-t-care-about-us?page=0,1\" looks like a URL. Beautiful Soup is not an HTTP client. You should probably use an HTTP client like requests to get the document behind the URL, and feed that document to Beautiful Soup.\n",
            "  ' that document to Beautiful Soup.' % decoded_markup\n",
            " 99%|█████████▉| 430631/435775 [05:54<00:03, 1341.91it/s]/usr/local/lib/python3.6/dist-packages/bs4/__init__.py:336: UserWarning: \"http://news.nationalpost.com/news/canada/canadians-more-likely-to-be-anti-semitic-than-americans-poll-finds\" looks like a URL. Beautiful Soup is not an HTTP client. You should probably use an HTTP client like requests to get the document behind the URL, and feed that document to Beautiful Soup.\n",
            "  ' that document to Beautiful Soup.' % decoded_markup\n",
            " 99%|█████████▉| 431556/435775 [05:55<00:03, 1286.08it/s]/usr/local/lib/python3.6/dist-packages/bs4/__init__.py:336: UserWarning: \"http://www.doctornerdlove.com/wp-content/uploads/2016/03/you-keep-using-that-word-e1458094038124.jpg\" looks like a URL. Beautiful Soup is not an HTTP client. You should probably use an HTTP client like requests to get the document behind the URL, and feed that document to Beautiful Soup.\n",
            "  ' that document to Beautiful Soup.' % decoded_markup\n",
            " 99%|█████████▉| 431825/435775 [05:55<00:03, 1314.60it/s]/usr/local/lib/python3.6/dist-packages/bs4/__init__.py:336: UserWarning: \"http://www.worldoil.com/news/2016/5/18/saudi-oil-stockpiles-hit-18-month-low-in-march-as-output-capped\" looks like a URL. Beautiful Soup is not an HTTP client. You should probably use an HTTP client like requests to get the document behind the URL, and feed that document to Beautiful Soup.\n",
            "  ' that document to Beautiful Soup.' % decoded_markup\n",
            " 99%|█████████▉| 432489/435775 [05:56<00:02, 1263.78it/s]/usr/local/lib/python3.6/dist-packages/bs4/__init__.py:336: UserWarning: \"https://www.facebook.com/ieti.lelilio?fref=ts\" looks like a URL. Beautiful Soup is not an HTTP client. You should probably use an HTTP client like requests to get the document behind the URL, and feed that document to Beautiful Soup.\n",
            "  ' that document to Beautiful Soup.' % decoded_markup\n",
            "/usr/local/lib/python3.6/dist-packages/bs4/__init__.py:336: UserWarning: \"https://www.theodysseyonline.com/washaway-beach-washington\" looks like a URL. Beautiful Soup is not an HTTP client. You should probably use an HTTP client like requests to get the document behind the URL, and feed that document to Beautiful Soup.\n",
            "  ' that document to Beautiful Soup.' % decoded_markup\n",
            "100%|█████████▉| 433791/435775 [05:57<00:01, 1282.58it/s]/usr/local/lib/python3.6/dist-packages/bs4/__init__.py:336: UserWarning: \"https://www.youtube.com/watch?v=sl751CDdRZI\" looks like a URL. Beautiful Soup is not an HTTP client. You should probably use an HTTP client like requests to get the document behind the URL, and feed that document to Beautiful Soup.\n",
            "  ' that document to Beautiful Soup.' % decoded_markup\n",
            "100%|█████████▉| 433920/435775 [05:57<00:01, 1284.36it/s]/usr/local/lib/python3.6/dist-packages/bs4/__init__.py:336: UserWarning: \"http://www.torontosun.com/2016/12/02/lets-not-turn-our-schools-into-mosques\" looks like a URL. Beautiful Soup is not an HTTP client. You should probably use an HTTP client like requests to get the document behind the URL, and feed that document to Beautiful Soup.\n",
            "  ' that document to Beautiful Soup.' % decoded_markup\n",
            "100%|██████████| 435775/435775 [05:58<00:00, 1215.41it/s]\n",
            "100%|██████████| 8000/8000 [00:06<00:00, 1158.41it/s]\n"
          ],
          "name": "stderr"
        }
      ]
    },
    {
      "cell_type": "code",
      "metadata": {
        "id": "MTyd60g63RYP",
        "colab_type": "code",
        "colab": {}
      },
      "source": [
        "from torch.utils.data import Dataset, DataLoader\n",
        "from transformers import T5Tokenizer\n",
        "import torch\n",
        "class XLMRobertaDataset(Dataset):\n",
        "  def __init__(self, tokenizer,df,  max_len=192):\n",
        "    self.data_column = df[\"comment_text\"].values\n",
        "    self.value = df['toxic'].values\n",
        "    self.max_len = max_len\n",
        "    self.tokenizer = tokenizer\n",
        "        \n",
        "  def __len__(self):\n",
        "      return len(self.data_column)\n",
        "\n",
        "  def __getitem__(self, index):\n",
        "    # tokenize inputs\n",
        "    input_ = '<s> %s </s>'%(self.data_column[index])\n",
        "    tokenized_inputs = self.tokenizer.batch_encode_plus( [input_], max_length=self.max_len, pad_to_max_length=True,return_tensors=\"pt\" )\n",
        "    source_ids = tokenized_inputs[\"input_ids\"].squeeze()\n",
        "    src_mask    = tokenized_inputs[\"attention_mask\"].squeeze() # might need to squeeze\n",
        "    return {\"input_ids\": source_ids, \"attention_mask\": src_mask, \"target\": torch.tensor(self.value[index])}"
      ],
      "execution_count": 0,
      "outputs": []
    },
    {
      "cell_type": "code",
      "metadata": {
        "id": "UKA3RFUC3caR",
        "colab_type": "code",
        "colab": {}
      },
      "source": [
        "train_dataset = XLMRobertaDataset(tokenizer,train, 128)\n",
        "valid_dataset = XLMRobertaDataset(tokenizer, valid, 128)"
      ],
      "execution_count": 0,
      "outputs": []
    },
    {
      "cell_type": "code",
      "metadata": {
        "id": "92HE8IFE4Uhy",
        "colab_type": "code",
        "outputId": "3738fd17-4b5c-4324-87ff-f0bdd08ffb24",
        "colab": {
          "base_uri": "https://localhost:8080/",
          "height": 54
        }
      },
      "source": [
        "%%timeit\n",
        "train_dataset[1]"
      ],
      "execution_count": 10,
      "outputs": [
        {
          "output_type": "stream",
          "text": [
            "The slowest run took 10.75 times longer than the fastest. This could mean that an intermediate result is being cached.\n",
            "10000 loops, best of 3: 143 µs per loop\n"
          ],
          "name": "stdout"
        }
      ]
    },
    {
      "cell_type": "code",
      "metadata": {
        "id": "vXJ24xVmlMoN",
        "colab_type": "code",
        "outputId": "bf967b7f-05e3-47d6-d7cb-d7851a27e47b",
        "colab": {
          "base_uri": "https://localhost:8080/",
          "height": 35
        }
      },
      "source": [
        "len(train_dataset), len(valid_dataset)"
      ],
      "execution_count": 11,
      "outputs": [
        {
          "output_type": "execute_result",
          "data": {
            "text/plain": [
              "(435775, 8000)"
            ]
          },
          "metadata": {
            "tags": []
          },
          "execution_count": 11
        }
      ]
    },
    {
      "cell_type": "code",
      "metadata": {
        "id": "UYOvGLdVgoxt",
        "colab_type": "code",
        "colab": {}
      },
      "source": [
        "# cach the dataset, so we can load it directly for training\n",
        "\n",
        "torch.save(train_dataset, 'train_data.pt')\n",
        "torch.save(valid_dataset, 'valid_data.pt')"
      ],
      "execution_count": 0,
      "outputs": []
    },
    {
      "cell_type": "markdown",
      "metadata": {
        "id": "NASBkGrtnbgj",
        "colab_type": "text"
      },
      "source": [
        "For more details on how to use the nlp library check out this [notebook](https://colab.research.google.com/github/huggingface/nlp/blob/master/notebooks/Overview.ipynb)."
      ]
    },
    {
      "cell_type": "markdown",
      "metadata": {
        "id": "tty8vuMBqI5L",
        "colab_type": "text"
      },
      "source": [
        "## Write training script"
      ]
    },
    {
      "cell_type": "markdown",
      "metadata": {
        "id": "djKKcgN1cvAX",
        "colab_type": "text"
      },
      "source": [
        "Using the `Trainer` is pretty straightforward. Here are the 4 basic steps which are needed to use trainer.\n",
        "\n",
        "1. **Parse the arguments needed**. These are divided in 3 parts for clarity and seperation (TrainingArguments, ModelArguments and DataTrainingArguments).\n",
        "\n",
        "  1. **TrainingArguments**: These are basicaly the training hyperparameters such as learning rate, batch size, weight decay, gradient accumulation steps etc. See all possible arguments [here](https://github.com/huggingface/transformers/blob/master/src/transformers/training_args.py). These are used by the Trainer.\n",
        "\n",
        "  2. **ModelArguments**: These are the arguments for the model that you want to use such as the model_name_or_path, tokenizer_name etc. You'll need these to load the model and tokenizer.\n",
        "\n",
        "  3. **DataTrainingArguments**: These are as the name suggests arguments needed for the dataset. Such as the directory name where your files are stored etc. You'll need these to load/process the dataset.\n",
        "\n",
        "  TrainingArguments are already defined in the `TrainingArguments` class, you'll need to define `ModelArguments` and `DataTrainingArguments` classes for your task.\n",
        "\n",
        "\n",
        "\n",
        "\n",
        "2. Load train and eval datasets\n",
        "3. Initialize the `Trainer`\n",
        "\n",
        "    These are the mininum parameters which you'll for initializing `Trainer`. For full list check [here](https://github.com/huggingface/transformers/blob/master/src/transformers/trainer.py#L107)\n",
        "\n",
        "    ```\n",
        "      model: PreTrainedModel\n",
        "      args: TrainingArguments\n",
        "      train_dataset: Optional[Dataset]\n",
        "      eval_dataset: Optional[Dataset]\n",
        "    ```\n",
        "4. Start training with  `trainer.train`\n",
        "\n",
        "    Call `trainer.train` and let the magic begin!\n",
        "\n",
        "\n",
        "There are lots of things which the trainer handles for you out of the box such as gradient_accumulation, fp16 training, setting up the optimizer and scheduler, logging with wandb etc. I didn't set-up wandb for this experiment, but will explore it for sure in future experiment."
      ]
    },
    {
      "cell_type": "code",
      "metadata": {
        "id": "7OQB5_ODgIz4",
        "colab_type": "code",
        "colab": {}
      },
      "source": [
        "def loss_fn(outputs, targets):\n",
        "    return nn.BCEWithLogitsLoss()(outputs, targets.view(-1, 1))\n",
        "\n",
        "\n",
        "def train_fn(data_loader, model, optimizer, device, scheduler):\n",
        "    model.train()\n",
        "\n",
        "    for bi, d in enumerate(data_loader):\n",
        "        ids = d[\"input_ids\"]\n",
        "        #token_type_ids = d[\"token_type_ids\"]\n",
        "        mask = d[\"attention_mask\"]\n",
        "        targets = d[\"target\"]\n",
        "\n",
        "        ids = ids.to(device, dtype=torch.long)\n",
        "        #token_type_ids = token_type_ids.to(device, dtype=torch.long)\n",
        "        mask = mask.to(device, dtype=torch.long)\n",
        "        targets = targets.to(device, dtype=torch.float)\n",
        "\n",
        "        optimizer.zero_grad()\n",
        "        outputs = model(\n",
        "            ids,\n",
        "           mask,\n",
        "            #token_type_ids=token_type_ids\n",
        "        )\n",
        "\n",
        "        loss = loss_fn(outputs, targets)\n",
        "        loss.backward()\n",
        "        xm.optimizer_step(optimizer)\n",
        "        if scheduler is not None:\n",
        "            scheduler.step()\n",
        "\n",
        "        if bi % 100 == 0:\n",
        "            print(f'[xla:{xm.get_ordinal()}]: bi={bi}, loss={loss}')\n",
        "\n",
        "\n",
        "def eval_fn(data_loader, model, device):\n",
        "    model.eval()\n",
        "    fin_targets = []\n",
        "    fin_outputs = []\n",
        "    with torch.no_grad():\n",
        "        for bi, d in enumerate(data_loader):\n",
        "            ids = d[\"input_ids\"]\n",
        "           # token_type_ids = d[\"token_type_ids\"]\n",
        "            mask = d[\"attention_mask\"]\n",
        "            targets = d[\"target\"]\n",
        "\n",
        "            ids = ids.to(device, dtype=torch.long)\n",
        "            #token_type_ids = token_type_ids.to(device, dtype=torch.long)\n",
        "            mask = mask.to(device, dtype=torch.long)\n",
        "            targets = targets.to(device, dtype=torch.float)\n",
        "\n",
        "            outputs = model(\n",
        "                ids,\n",
        "                mask,\n",
        "                #token_type_ids=token_type_ids\n",
        "            )\n",
        "            fin_targets.extend(targets.cpu().detach().numpy().tolist())\n",
        "            fin_outputs.extend(outputs.cpu().detach().numpy().tolist())\n",
        "    return fin_outputs, fin_targets"
      ],
      "execution_count": 0,
      "outputs": []
    },
    {
      "cell_type": "code",
      "metadata": {
        "id": "30d-npxPpnn1",
        "colab_type": "code",
        "colab": {}
      },
      "source": [
        "class RobertaMultilayerClassification(torch.nn.Module):\n",
        "    def __init__(self,config= None):\n",
        "        super(RobertaMultilayerClassification,self).__init__()\n",
        "        self.model = XLMRobertaModel.from_pretrained('xlm-roberta-base')\n",
        "        self.dense = torch.nn.Linear(768, 1)\n",
        "        self.config = config\n",
        "        torch.nn.init.xavier_normal_(self.dense.weight)\n",
        "\n",
        "    def forward(self, ids , attention_mask=None, token_type_ids=None):\n",
        "        last_hidden_state = self.model(input_ids=ids, attention_mask = attention_mask,token_type_ids= token_type_ids)\n",
        "        mean_last_hidden_state = self.pool_hidden_state(last_hidden_state)\n",
        "        #mean_last_hidden_state = self.dropout(mean_last_hidden_state)\n",
        "        logits = self.dense(mean_last_hidden_state)\n",
        "        return logits\n",
        "    def pool_hidden_state(self, last_hidden_state):\n",
        "        last_hidden_state = last_hidden_state[0]\n",
        "        mean_last_hidden_state = torch.mean(last_hidden_state, 1)\n",
        "        return mean_last_hidden_state\n",
        "        #return last_hidden_state"
      ],
      "execution_count": 0,
      "outputs": []
    },
    {
      "cell_type": "code",
      "metadata": {
        "id": "KdmKlMkfcLa0",
        "colab_type": "code",
        "colab": {}
      },
      "source": [
        "\n",
        "config = {\"epochs\":2, \"train_batch\":4,\\\n",
        "          \"valid_batch\":4, \"learning_rate\":5e-5,\\\n",
        "          \"save_dir\":\"models/tpu\"}\n",
        "def main():\n",
        "    train_dataset  = torch.load(\"train_data.pt\")\n",
        "    train_sampler = torch.utils.data.distributed.DistributedSampler(\n",
        "          train_dataset,\n",
        "          num_replicas=xm.xrt_world_size(),\n",
        "          rank=xm.get_ordinal(),\n",
        "          shuffle=True)\n",
        "\n",
        "    train_data_loader = torch.utils.data.DataLoader(\n",
        "        train_dataset,\n",
        "        batch_size=config['train_batch'],\n",
        "        sampler=train_sampler,\n",
        "        drop_last=True,\n",
        "        num_workers=2\n",
        "    )\n",
        "    valid_dataset  = torch.load(\"valid_data.pt\")\n",
        "    valid_sampler = torch.utils.data.distributed.DistributedSampler(\n",
        "          valid_dataset,\n",
        "          num_replicas=xm.xrt_world_size(),\n",
        "          rank=xm.get_ordinal(),\n",
        "          shuffle=False)\n",
        "\n",
        "    valid_data_loader = torch.utils.data.DataLoader(\n",
        "        valid_dataset,\n",
        "        batch_size=config['valid_batch'],\n",
        "        sampler=valid_sampler,\n",
        "        drop_last=False,\n",
        "        num_workers=1\n",
        "    )\n",
        "    device = xm.xla_device()\n",
        "    model = RobertaMultilayerClassification().to(device)\n",
        "    \n",
        "    print('training started')\n",
        "\n",
        "    # Initialize our Trainer\n",
        "    param_optimizer = list(model.named_parameters())\n",
        "    no_decay = [\"bias\", \"LayerNorm.bias\", \"LayerNorm.weight\"]\n",
        "    optimizer_parameters = [\n",
        "        {\n",
        "            'params': [\n",
        "                p for n, p in param_optimizer if not any(\n",
        "                    nd in n for nd in no_decay\n",
        "                )\n",
        "            ], \n",
        "            'weight_decay': 0.001\n",
        "        },\n",
        "        {\n",
        "            'params': [\n",
        "                p for n, p in param_optimizer if any(\n",
        "                    nd in n for nd in no_decay\n",
        "                )\n",
        "            ],\n",
        "            'weight_decay': 0.0\n",
        "        },\n",
        "    ]\n",
        "\n",
        "    num_train_steps = int(\n",
        "        len(train_dataset) / config['train_batch'] / xm.xrt_world_size() * config['epochs']\n",
        "    )\n",
        "    print(\"%s : num train steps: %d\",(device, num_train_steps))\n",
        "    optimizer = AdamW(\n",
        "        optimizer_parameters, \n",
        "        lr=5e-5 * xm.xrt_world_size()\n",
        "    )\n",
        "    scheduler = get_linear_schedule_with_warmup(\n",
        "        optimizer,\n",
        "        num_warmup_steps=0,\n",
        "        num_training_steps=num_train_steps\n",
        "    )\n",
        "\n",
        "    best_auc = 0\n",
        "    for epoch in range(config['epochs']):\n",
        "        para_loader = pl.ParallelLoader(train_data_loader, [device])\n",
        "        train_fn(\n",
        "            para_loader.per_device_loader(device), \n",
        "            model, \n",
        "            optimizer, \n",
        "            device, \n",
        "            scheduler\n",
        "        )\n",
        "        \n",
        "        para_loader = pl.ParallelLoader(valid_data_loader, [device])\n",
        "        outputs, targets = eval_fn(\n",
        "            para_loader.per_device_loader(device), \n",
        "            model, \n",
        "            device\n",
        "        )\n",
        "\n",
        "        targets = np.array(targets) >= 0.5\n",
        "        auc = metrics.roc_auc_score(targets, outputs)\n",
        "        print(f'[xla:{xm.get_ordinal()}]: AUC={auc}')\n",
        "        if auc > best_auc:\n",
        "            xm.save(model.state_dict(), config['save_dir'])\n",
        "            best_auc = auc\n",
        "\n",
        "\n",
        "\n",
        "def _mp_fn(index):\n",
        "    # For xla_spawn (TPUs)\n",
        "    main()"
      ],
      "execution_count": 0,
      "outputs": []
    },
    {
      "cell_type": "markdown",
      "metadata": {
        "id": "15duw24hqMBy",
        "colab_type": "text"
      },
      "source": [
        "## Train"
      ]
    },
    {
      "cell_type": "markdown",
      "metadata": {
        "id": "zOvs9RUllLTw",
        "colab_type": "text"
      },
      "source": [
        "Let's write the arguments in a dict and store in a json file. The above code will load this file and parse the arguments."
      ]
    },
    {
      "cell_type": "code",
      "metadata": {
        "id": "X9_Go99fvW-z",
        "colab_type": "code",
        "outputId": "ea6500dc-e7bc-44dc-8c80-6dc5c7d044f0",
        "colab": {
          "base_uri": "https://localhost:8080/",
          "height": 171
        }
      },
      "source": [
        "xmp.spawn(_mp_fn, args=(), nprocs=8, start_method='fork')"
      ],
      "execution_count": 1,
      "outputs": [
        {
          "output_type": "error",
          "ename": "NameError",
          "evalue": "ignored",
          "traceback": [
            "\u001b[0;31m---------------------------------------------------------------------------\u001b[0m",
            "\u001b[0;31mNameError\u001b[0m                                 Traceback (most recent call last)",
            "\u001b[0;32m<ipython-input-1-73174769e3d1>\u001b[0m in \u001b[0;36m<module>\u001b[0;34m()\u001b[0m\n\u001b[0;32m----> 1\u001b[0;31m \u001b[0mxmp\u001b[0m\u001b[0;34m.\u001b[0m\u001b[0mspawn\u001b[0m\u001b[0;34m(\u001b[0m\u001b[0m_mp_fn\u001b[0m\u001b[0;34m,\u001b[0m \u001b[0margs\u001b[0m\u001b[0;34m=\u001b[0m\u001b[0;34m(\u001b[0m\u001b[0;34m)\u001b[0m\u001b[0;34m,\u001b[0m \u001b[0mnprocs\u001b[0m\u001b[0;34m=\u001b[0m\u001b[0;36m8\u001b[0m\u001b[0;34m,\u001b[0m \u001b[0mstart_method\u001b[0m\u001b[0;34m=\u001b[0m\u001b[0;34m'fork'\u001b[0m\u001b[0;34m)\u001b[0m\u001b[0;34m\u001b[0m\u001b[0;34m\u001b[0m\u001b[0m\n\u001b[0m",
            "\u001b[0;31mNameError\u001b[0m: name 'xmp' is not defined"
          ]
        }
      ]
    },
    {
      "cell_type": "markdown",
      "metadata": {
        "id": "LAe5vnbi-dyx",
        "colab_type": "text"
      },
      "source": [
        "## Eval"
      ]
    },
    {
      "cell_type": "markdown",
      "metadata": {
        "id": "VxWscyGVl05C",
        "colab_type": "text"
      },
      "source": [
        "There are two gotchas here. First the metrics functionality in the nlp package is still work-in-progress so we will use the official squad evaluation script. Second, for some reason which I couldn't figure out, the `.generate` method is not working on TPU so will need to do prediction on CPU. For predicting the validation set it almost takes 40 mins."
      ]
    },
    {
      "cell_type": "code",
      "metadata": {
        "id": "FCZVPIUK9fyn",
        "colab_type": "code",
        "colab": {}
      },
      "source": [
        "import torch\n",
        "import torch_xla\n",
        "import torch_xla.core.xla_model as xm\n",
        "from tqdm.auto import tqdm"
      ],
      "execution_count": 0,
      "outputs": []
    },
    {
      "cell_type": "code",
      "metadata": {
        "id": "vjstID24-IAw",
        "colab_type": "code",
        "colab": {
          "base_uri": "https://localhost:8080/",
          "height": 171
        },
        "outputId": "c2373ca9-d546-4168-f829-c7b5bb49d783"
      },
      "source": [
        "model  = XLMRobertaClassification().load_state_dict(\"models/tpu\").to('cpu')"
      ],
      "execution_count": 135,
      "outputs": [
        {
          "output_type": "error",
          "ename": "NameError",
          "evalue": "ignored",
          "traceback": [
            "\u001b[0;31m---------------------------------------------------------------------------\u001b[0m",
            "\u001b[0;31mNameError\u001b[0m                                 Traceback (most recent call last)",
            "\u001b[0;32m<ipython-input-135-13e27144cff1>\u001b[0m in \u001b[0;36m<module>\u001b[0;34m()\u001b[0m\n\u001b[0;32m----> 1\u001b[0;31m \u001b[0mmodel\u001b[0m  \u001b[0;34m=\u001b[0m \u001b[0mXLMRobertaClassification\u001b[0m\u001b[0;34m(\u001b[0m\u001b[0;34m)\u001b[0m\u001b[0;34m.\u001b[0m\u001b[0mload_state_dict\u001b[0m\u001b[0;34m(\u001b[0m\u001b[0;34m\"models/tpu\"\u001b[0m\u001b[0;34m)\u001b[0m\u001b[0;34m\u001b[0m\u001b[0;34m\u001b[0m\u001b[0m\n\u001b[0m",
            "\u001b[0;31mNameError\u001b[0m: name 'XLMRobertaClassification' is not defined"
          ]
        }
      ]
    },
    {
      "cell_type": "code",
      "metadata": {
        "id": "VJ7CFrEtLD4F",
        "colab_type": "code",
        "colab": {}
      },
      "source": [
        "pred = []\n",
        "label = []\n",
        "for batch in valid_dataset:\n",
        "  pred.append(model(batch['input_ids'], batch['mask']))\n",
        "  label.append(batch['target'])"
      ],
      "execution_count": 0,
      "outputs": []
    },
    {
      "cell_type": "code",
      "metadata": {
        "id": "BDpnF6NmMWEl",
        "colab_type": "code",
        "outputId": "3e40648f-7134-43e0-c63a-fe6548c0503c",
        "colab": {
          "base_uri": "https://localhost:8080/",
          "height": 34
        }
      },
      "source": [
        "pred[0], label[0]"
      ],
      "execution_count": 0,
      "outputs": [
        {
          "output_type": "execute_result",
          "data": {
            "text/plain": [
              "('negative', 'positive')"
            ]
          },
          "metadata": {
            "tags": []
          },
          "execution_count": 28
        }
      ]
    },
    {
      "cell_type": "code",
      "metadata": {
        "id": "dtRfqm3Odgh1",
        "colab_type": "code",
        "outputId": "a3d79755-0dd9-4b7e-ca9b-0281e5cb8ff1",
        "colab": {
          "base_uri": "https://localhost:8080/",
          "height": 170
        }
      },
      "source": [
        "from sklearn.metrics import classification_report\n",
        "print(classification_report(pred, label))"
      ],
      "execution_count": 0,
      "outputs": [
        {
          "output_type": "stream",
          "text": [
            "              precision    recall  f1-score   support\n",
            "\n",
            "    negative       0.86      0.81      0.84       874\n",
            "    positive       0.77      0.82      0.79       649\n",
            "\n",
            "    accuracy                           0.82      1523\n",
            "   macro avg       0.81      0.82      0.81      1523\n",
            "weighted avg       0.82      0.82      0.82      1523\n",
            "\n"
          ],
          "name": "stdout"
        }
      ]
    },
    {
      "cell_type": "code",
      "metadata": {
        "id": "rle9Io5G97k2",
        "colab_type": "code",
        "colab": {}
      },
      "source": [
        ""
      ],
      "execution_count": 0,
      "outputs": []
    }
  ]
}